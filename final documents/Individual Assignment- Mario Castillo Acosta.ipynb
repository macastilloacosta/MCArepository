{
 "cells": [
  {
   "cell_type": "markdown",
   "metadata": {},
   "source": [
    "# Individuql Assignment and Kaggle Competition\n",
    "-Mario Castillo Acosta\n",
    "\n"
   ]
  },
  {
   "cell_type": "markdown",
   "metadata": {},
   "source": [
    "## 1. Initiation"
   ]
  },
  {
   "cell_type": "code",
   "execution_count": 1,
   "metadata": {},
   "outputs": [
    {
     "name": "stderr",
     "output_type": "stream",
     "text": [
      "Installing package into 'C:/Users/mario/OneDrive/Documentos/R/win-library/3.6'\n",
      "(as 'lib' is unspecified)\n"
     ]
    },
    {
     "name": "stdout",
     "output_type": "stream",
     "text": [
      "\n",
      "  There is a binary version available but the source version is later:\n",
      "    binary source needs_compilation\n",
      "mlr 2.17.0 2.17.1              TRUE\n",
      "\n",
      "  Binaries will be installed\n",
      "package 'mlr' successfully unpacked and MD5 sums checked\n",
      "\n",
      "The downloaded binary packages are in\n",
      "\tC:\\Users\\mario\\AppData\\Local\\Temp\\Rtmp4Yi0zy\\downloaded_packages\n"
     ]
    }
   ],
   "source": [
    "install.packages(\"mlr\")"
   ]
  },
  {
   "cell_type": "code",
   "execution_count": 2,
   "metadata": {},
   "outputs": [
    {
     "name": "stderr",
     "output_type": "stream",
     "text": [
      "Warning message:\n",
      "\"package 'data.table' was built under R version 3.6.2\"Installing package into 'C:/Users/mario/OneDrive/Documentos/R/win-library/3.6'\n",
      "(as 'lib' is unspecified)\n"
     ]
    },
    {
     "name": "stdout",
     "output_type": "stream",
     "text": [
      "package 'varhandle' successfully unpacked and MD5 sums checked\n",
      "\n",
      "The downloaded binary packages are in\n",
      "\tC:\\Users\\mario\\AppData\\Local\\Temp\\Rtmp4Yi0zy\\downloaded_packages\n"
     ]
    },
    {
     "name": "stderr",
     "output_type": "stream",
     "text": [
      "Warning message:\n",
      "\"package 'varhandle' was built under R version 3.6.2\"Warning message:\n",
      "\"package 'stringr' was built under R version 3.6.2\"Warning message:\n",
      "\"package 'mlr' was built under R version 3.6.3\"Loading required package: ParamHelpers\n",
      "Warning message:\n",
      "\"package 'ParamHelpers' was built under R version 3.6.3\"'mlr' is in maintenance mode since July 2019. Future development\n",
      "efforts will go into its successor 'mlr3' (<https://mlr3.mlr-org.com>).\n"
     ]
    }
   ],
   "source": [
    "library(data.table)\n",
    "install.packages(\"varhandle\")\n",
    "library(varhandle)\n",
    "library(stringr)\n",
    "library(mlr)"
   ]
  },
  {
   "cell_type": "code",
   "execution_count": 3,
   "metadata": {},
   "outputs": [
    {
     "name": "stderr",
     "output_type": "stream",
     "text": [
      "Installing package into 'C:/Users/mario/OneDrive/Documentos/R/win-library/3.6'\n",
      "(as 'lib' is unspecified)\n",
      "Warning message:\n",
      "\"package 'varhandle' is in use and will not be installed\"Installing package into 'C:/Users/mario/OneDrive/Documentos/R/win-library/3.6'\n",
      "(as 'lib' is unspecified)\n"
     ]
    },
    {
     "name": "stdout",
     "output_type": "stream",
     "text": [
      "package 'woeBinning' successfully unpacked and MD5 sums checked\n",
      "\n",
      "The downloaded binary packages are in\n",
      "\tC:\\Users\\mario\\AppData\\Local\\Temp\\Rtmp4Yi0zy\\downloaded_packages\n"
     ]
    },
    {
     "name": "stderr",
     "output_type": "stream",
     "text": [
      "Installing package into 'C:/Users/mario/OneDrive/Documentos/R/win-library/3.6'\n",
      "(as 'lib' is unspecified)\n"
     ]
    },
    {
     "name": "stdout",
     "output_type": "stream",
     "text": [
      "package 'Boruta' successfully unpacked and MD5 sums checked\n",
      "\n",
      "The downloaded binary packages are in\n",
      "\tC:\\Users\\mario\\AppData\\Local\\Temp\\Rtmp4Yi0zy\\downloaded_packages\n"
     ]
    },
    {
     "name": "stderr",
     "output_type": "stream",
     "text": [
      "Warning message:\n",
      "\"package 'Boruta' was built under R version 3.6.3\"Loading required package: ranger\n",
      "Warning message:\n",
      "\"package 'ranger' was built under R version 3.6.3\"Installing package into 'C:/Users/mario/OneDrive/Documentos/R/win-library/3.6'\n",
      "(as 'lib' is unspecified)\n"
     ]
    },
    {
     "name": "stdout",
     "output_type": "stream",
     "text": [
      "package 'MASS' successfully unpacked and MD5 sums checked\n",
      "\n",
      "The downloaded binary packages are in\n",
      "\tC:\\Users\\mario\\AppData\\Local\\Temp\\Rtmp4Yi0zy\\downloaded_packages\n"
     ]
    },
    {
     "name": "stderr",
     "output_type": "stream",
     "text": [
      "Warning message:\n",
      "\"package 'MASS' was built under R version 3.6.3\"Installing package into 'C:/Users/mario/OneDrive/Documentos/R/win-library/3.6'\n",
      "(as 'lib' is unspecified)\n"
     ]
    },
    {
     "name": "stdout",
     "output_type": "stream",
     "text": [
      "package 'tree' successfully unpacked and MD5 sums checked\n",
      "\n",
      "The downloaded binary packages are in\n",
      "\tC:\\Users\\mario\\AppData\\Local\\Temp\\Rtmp4Yi0zy\\downloaded_packages\n"
     ]
    },
    {
     "name": "stderr",
     "output_type": "stream",
     "text": [
      "Warning message:\n",
      "\"package 'tree' was built under R version 3.6.3\"randomForest 4.6-14\n",
      "Type rfNews() to see new features/changes/bug fixes.\n",
      "\n",
      "Attaching package: 'randomForest'\n",
      "\n",
      "The following object is masked from 'package:ranger':\n",
      "\n",
      "    importance\n",
      "\n",
      "Installing package into 'C:/Users/mario/OneDrive/Documentos/R/win-library/3.6'\n",
      "(as 'lib' is unspecified)\n"
     ]
    },
    {
     "name": "stdout",
     "output_type": "stream",
     "text": [
      "package 'gbm' successfully unpacked and MD5 sums checked\n",
      "\n",
      "The downloaded binary packages are in\n",
      "\tC:\\Users\\mario\\AppData\\Local\\Temp\\Rtmp4Yi0zy\\downloaded_packages\n"
     ]
    },
    {
     "name": "stderr",
     "output_type": "stream",
     "text": [
      "Warning message:\n",
      "\"package 'gbm' was built under R version 3.6.3\"Loaded gbm 2.1.5\n",
      "Installing package into 'C:/Users/mario/OneDrive/Documentos/R/win-library/3.6'\n",
      "(as 'lib' is unspecified)\n"
     ]
    },
    {
     "name": "stdout",
     "output_type": "stream",
     "text": [
      "\n",
      "  There is a binary version available but the source version is later:\n",
      "         binary  source needs_compilation\n",
      "xgboost 1.0.0.1 1.0.0.2              TRUE\n",
      "\n",
      "  Binaries will be installed\n",
      "package 'xgboost' successfully unpacked and MD5 sums checked\n",
      "\n",
      "The downloaded binary packages are in\n",
      "\tC:\\Users\\mario\\AppData\\Local\\Temp\\Rtmp4Yi0zy\\downloaded_packages\n"
     ]
    },
    {
     "name": "stderr",
     "output_type": "stream",
     "text": [
      "Warning message:\n",
      "\"package 'xgboost' was built under R version 3.6.3\"Installing package into 'C:/Users/mario/OneDrive/Documentos/R/win-library/3.6'\n",
      "(as 'lib' is unspecified)\n"
     ]
    },
    {
     "name": "stdout",
     "output_type": "stream",
     "text": [
      "package 'pROC' successfully unpacked and MD5 sums checked\n",
      "\n",
      "The downloaded binary packages are in\n",
      "\tC:\\Users\\mario\\AppData\\Local\\Temp\\Rtmp4Yi0zy\\downloaded_packages\n"
     ]
    },
    {
     "name": "stderr",
     "output_type": "stream",
     "text": [
      "Warning message:\n",
      "\"package 'pROC' was built under R version 3.6.3\"Type 'citation(\"pROC\")' for a citation.\n",
      "\n",
      "Attaching package: 'pROC'\n",
      "\n",
      "The following objects are masked from 'package:stats':\n",
      "\n",
      "    cov, smooth, var\n",
      "\n",
      "Installing package into 'C:/Users/mario/OneDrive/Documentos/R/win-library/3.6'\n",
      "(as 'lib' is unspecified)\n"
     ]
    },
    {
     "name": "stdout",
     "output_type": "stream",
     "text": [
      "package 'e1071' successfully unpacked and MD5 sums checked\n",
      "\n",
      "The downloaded binary packages are in\n",
      "\tC:\\Users\\mario\\AppData\\Local\\Temp\\Rtmp4Yi0zy\\downloaded_packages\n"
     ]
    },
    {
     "name": "stderr",
     "output_type": "stream",
     "text": [
      "Warning message:\n",
      "\"package 'e1071' was built under R version 3.6.3\"\n",
      "Attaching package: 'e1071'\n",
      "\n",
      "The following object is masked from 'package:mlr':\n",
      "\n",
      "    impute\n",
      "\n",
      "Installing package into 'C:/Users/mario/OneDrive/Documentos/R/win-library/3.6'\n",
      "(as 'lib' is unspecified)\n"
     ]
    },
    {
     "name": "stdout",
     "output_type": "stream",
     "text": [
      "package 'caret' successfully unpacked and MD5 sums checked\n",
      "\n",
      "The downloaded binary packages are in\n",
      "\tC:\\Users\\mario\\AppData\\Local\\Temp\\Rtmp4Yi0zy\\downloaded_packages\n"
     ]
    },
    {
     "name": "stderr",
     "output_type": "stream",
     "text": [
      "Warning message:\n",
      "\"package 'caret' was built under R version 3.6.3\"Loading required package: lattice\n",
      "Loading required package: ggplot2\n",
      "Warning message:\n",
      "\"package 'ggplot2' was built under R version 3.6.2\"\n",
      "Attaching package: 'ggplot2'\n",
      "\n",
      "The following object is masked from 'package:randomForest':\n",
      "\n",
      "    margin\n",
      "\n",
      "\n",
      "Attaching package: 'caret'\n",
      "\n",
      "The following object is masked from 'package:mlr':\n",
      "\n",
      "    train\n",
      "\n"
     ]
    }
   ],
   "source": [
    "# Data processing library\n",
    "#install.packages(\"mlr\")\n",
    "library(data.table)\n",
    "install.packages(\"varhandle\")\n",
    "library(varhandle)\n",
    "library(stringr)\n",
    "#library(mlr)\n",
    "\n",
    "install.packages(\"woeBinning\")\n",
    "library(woeBinning)  # Bin numerical and categorical variables\n",
    "install.packages(\"Boruta\")\n",
    "library(Boruta)  # Variable selection\n",
    "\n",
    "# Machine learning library\n",
    "install.packages(\"MASS\")\n",
    "library(MASS)  # LDA\n",
    "install.packages(\"tree\")\n",
    "library(tree)          # CART model\n",
    "library(randomForest)  # RF\n",
    "install.packages(\"gbm\")\n",
    "library(gbm)  # Boosting Tree\n",
    "install.packages(\"xgboost\")\n",
    "library(xgboost)  # XGboost\n",
    "install.packages(\"pROC\")\n",
    "library(pROC)        # AUC, ROC\n",
    "install.packages(\"e1071\")\n",
    "library(e1071)       # SVM\n",
    "install.packages(\"caret\")\n",
    "library(caret)       # ML toolkit\n",
    "library(ggplot2)     # Visualization\n",
    "\n",
    "# Resize plot\n",
    "#install.packages(\"repr\")\n",
    "#library(repr)  # String and binary representations\n",
    "####################################################################################################################\n",
    "# Data processing library\n",
    "library(data.table)\n",
    "library(varhandle)\n",
    "library(stringr)\n",
    "library(mlr)\n",
    "\n",
    "library(woeBinning)  # Bin numerical and categorical variables\n",
    "library(Boruta)  # Variable selection\n",
    "\n",
    "# Machine learning library\n",
    "library(MASS)  # LDA\n",
    "library(randomForest)  # RF\n",
    "library(gbm)  # Boosting Tree\n",
    "library(xgboost)  # XGboost"
   ]
  },
  {
   "cell_type": "markdown",
   "metadata": {},
   "source": [
    "## 2. Data summary and processing"
   ]
  },
  {
   "cell_type": "markdown",
   "metadata": {},
   "source": [
    "### 2.1. Data summary"
   ]
  },
  {
   "cell_type": "markdown",
   "metadata": {},
   "source": [
    "#### Read and print out some data."
   ]
  },
  {
   "cell_type": "code",
   "execution_count": 4,
   "metadata": {},
   "outputs": [],
   "source": [
    "# Read train, test\n",
    "train <- read.csv('C:/Users/mario/OneDrive/Documentos/Stats and Machine Learning/In-class Kaggle Competition/data/bank_mkt/bank_mkt_train.csv')  # Training \n",
    "test_holdout <- read.csv('C:/Users/mario/OneDrive/Documentos/Stats and Machine Learning/In-class Kaggle Competition/data/bank_mkt/bank_mkt_test.csv')  # Holdout data set without response"
   ]
  },
  {
   "cell_type": "code",
   "execution_count": 5,
   "metadata": {},
   "outputs": [
    {
     "name": "stdout",
     "output_type": "stream",
     "text": [
      "'data.frame':\t7000 obs. of  21 variables:\n",
      " $ client_id     : int  2 3 4 5 6 7 8 9 14 15 ...\n",
      " $ age           : int  29 39 49 32 29 51 34 52 52 29 ...\n",
      " $ job           : Factor w/ 12 levels \"admin.\",\"blue-collar\",..: 4 11 2 7 1 7 2 8 1 1 ...\n",
      " $ marital       : Factor w/ 4 levels \"divorced\",\"married\",..: 3 2 2 3 3 2 2 2 2 3 ...\n",
      " $ education     : Factor w/ 8 levels \"basic.4y\",\"basic.6y\",..: 4 3 2 7 4 7 1 4 7 7 ...\n",
      " $ default       : Factor w/ 2 levels \"no\",\"unknown\": 1 2 2 1 2 2 1 1 1 1 ...\n",
      " $ housing       : Factor w/ 3 levels \"no\",\"unknown\",..: 1 3 1 3 3 3 3 3 3 3 ...\n",
      " $ loan          : Factor w/ 3 levels \"no\",\"unknown\",..: 1 1 1 1 1 1 1 1 1 1 ...\n",
      " $ contact       : Factor w/ 2 levels \"cellular\",\"telephone\": 2 2 1 1 1 2 1 1 1 1 ...\n",
      " $ month         : Factor w/ 10 levels \"apr\",\"aug\",\"dec\",..: 7 5 8 7 4 5 8 8 8 5 ...\n",
      " $ day_of_week   : Factor w/ 5 levels \"fri\",\"mon\",\"thu\",..: 2 1 4 2 1 4 4 4 3 2 ...\n",
      " $ campaign      : int  3 6 2 3 2 1 1 1 3 1 ...\n",
      " $ pdays         : int  999 999 999 999 999 999 999 999 999 999 ...\n",
      " $ previous      : int  0 0 0 1 0 0 0 0 0 0 ...\n",
      " $ poutcome      : Factor w/ 3 levels \"failure\",\"nonexistent\",..: 2 2 2 1 2 2 2 2 2 2 ...\n",
      " $ emp.var.rate  : num  1.1 1.4 -0.1 -1.8 1.4 1.4 -0.1 -0.1 -0.1 -2.9 ...\n",
      " $ cons.price.idx: num  94 94.5 93.2 92.9 93.9 ...\n",
      " $ cons.conf.idx : num  -36.4 -41.8 -42 -46.2 -42.7 -41.8 -42 -42 -42 -40.8 ...\n",
      " $ euribor3m     : num  4.86 4.96 4.15 1.3 4.96 ...\n",
      " $ nr.employed   : num  5191 5228 5196 5099 5228 ...\n",
      " $ subscribe     : int  0 0 0 0 0 0 0 0 0 0 ...\n"
     ]
    }
   ],
   "source": [
    "# Print out to check the data type\n",
    "str(train)"
   ]
  },
  {
   "cell_type": "markdown",
   "metadata": {},
   "source": [
    "#### Check the target variable class distribution."
   ]
  },
  {
   "cell_type": "code",
   "execution_count": 6,
   "metadata": {},
   "outputs": [
    {
     "data": {
      "text/plain": [
       "\n",
       "   0    1 \n",
       "6178  822 "
      ]
     },
     "metadata": {},
     "output_type": "display_data"
    }
   ],
   "source": [
    "# By number\n",
    "table(train$subscribe)"
   ]
  },
  {
   "cell_type": "code",
   "execution_count": 7,
   "metadata": {},
   "outputs": [
    {
     "data": {
      "text/plain": [
       "\n",
       "        0         1 \n",
       "0.8825714 0.1174286 "
      ]
     },
     "metadata": {},
     "output_type": "display_data"
    }
   ],
   "source": [
    "# By percentage\n",
    "table(train$subscribe) / nrow(train)"
   ]
  },
  {
   "cell_type": "markdown",
   "metadata": {},
   "source": [
    "#### Check and fix data error (if any)."
   ]
  },
  {
   "cell_type": "code",
   "execution_count": 8,
   "metadata": {},
   "outputs": [
    {
     "data": {
      "text/html": [
       "<dl class=dl-horizontal>\n",
       "\t<dt>client_id</dt>\n",
       "\t\t<dd>0</dd>\n",
       "\t<dt>age</dt>\n",
       "\t\t<dd>0</dd>\n",
       "\t<dt>job</dt>\n",
       "\t\t<dd>0</dd>\n",
       "\t<dt>marital</dt>\n",
       "\t\t<dd>0</dd>\n",
       "\t<dt>education</dt>\n",
       "\t\t<dd>0</dd>\n",
       "\t<dt>default</dt>\n",
       "\t\t<dd>0</dd>\n",
       "\t<dt>housing</dt>\n",
       "\t\t<dd>0</dd>\n",
       "\t<dt>loan</dt>\n",
       "\t\t<dd>0</dd>\n",
       "\t<dt>contact</dt>\n",
       "\t\t<dd>0</dd>\n",
       "\t<dt>month</dt>\n",
       "\t\t<dd>0</dd>\n",
       "\t<dt>day_of_week</dt>\n",
       "\t\t<dd>0</dd>\n",
       "\t<dt>campaign</dt>\n",
       "\t\t<dd>0</dd>\n",
       "\t<dt>pdays</dt>\n",
       "\t\t<dd>0</dd>\n",
       "\t<dt>previous</dt>\n",
       "\t\t<dd>0</dd>\n",
       "\t<dt>poutcome</dt>\n",
       "\t\t<dd>0</dd>\n",
       "\t<dt>emp.var.rate</dt>\n",
       "\t\t<dd>0</dd>\n",
       "\t<dt>cons.price.idx</dt>\n",
       "\t\t<dd>0</dd>\n",
       "\t<dt>cons.conf.idx</dt>\n",
       "\t\t<dd>0</dd>\n",
       "\t<dt>euribor3m</dt>\n",
       "\t\t<dd>0</dd>\n",
       "\t<dt>nr.employed</dt>\n",
       "\t\t<dd>0</dd>\n",
       "\t<dt>subscribe</dt>\n",
       "\t\t<dd>0</dd>\n",
       "</dl>\n"
      ],
      "text/latex": [
       "\\begin{description*}\n",
       "\\item[client\\textbackslash{}\\_id] 0\n",
       "\\item[age] 0\n",
       "\\item[job] 0\n",
       "\\item[marital] 0\n",
       "\\item[education] 0\n",
       "\\item[default] 0\n",
       "\\item[housing] 0\n",
       "\\item[loan] 0\n",
       "\\item[contact] 0\n",
       "\\item[month] 0\n",
       "\\item[day\\textbackslash{}\\_of\\textbackslash{}\\_week] 0\n",
       "\\item[campaign] 0\n",
       "\\item[pdays] 0\n",
       "\\item[previous] 0\n",
       "\\item[poutcome] 0\n",
       "\\item[emp.var.rate] 0\n",
       "\\item[cons.price.idx] 0\n",
       "\\item[cons.conf.idx] 0\n",
       "\\item[euribor3m] 0\n",
       "\\item[nr.employed] 0\n",
       "\\item[subscribe] 0\n",
       "\\end{description*}\n"
      ],
      "text/markdown": [
       "client_id\n",
       ":   0age\n",
       ":   0job\n",
       ":   0marital\n",
       ":   0education\n",
       ":   0default\n",
       ":   0housing\n",
       ":   0loan\n",
       ":   0contact\n",
       ":   0month\n",
       ":   0day_of_week\n",
       ":   0campaign\n",
       ":   0pdays\n",
       ":   0previous\n",
       ":   0poutcome\n",
       ":   0emp.var.rate\n",
       ":   0cons.price.idx\n",
       ":   0cons.conf.idx\n",
       ":   0euribor3m\n",
       ":   0nr.employed\n",
       ":   0subscribe\n",
       ":   0\n",
       "\n"
      ],
      "text/plain": [
       "     client_id            age            job        marital      education \n",
       "             0              0              0              0              0 \n",
       "       default        housing           loan        contact          month \n",
       "             0              0              0              0              0 \n",
       "   day_of_week       campaign          pdays       previous       poutcome \n",
       "             0              0              0              0              0 \n",
       "  emp.var.rate cons.price.idx  cons.conf.idx      euribor3m    nr.employed \n",
       "             0              0              0              0              0 \n",
       "     subscribe \n",
       "             0 "
      ]
     },
     "metadata": {},
     "output_type": "display_data"
    }
   ],
   "source": [
    "# Check missing value\n",
    "apply(is.na(train), 2, sum)"
   ]
  },
  {
   "cell_type": "markdown",
   "metadata": {},
   "source": [
    "### 2.2. Feature engineering"
   ]
  },
  {
   "cell_type": "markdown",
   "metadata": {},
   "source": [
    "#### Add variable: pdays_999"
   ]
  },
  {
   "cell_type": "code",
   "execution_count": 9,
   "metadata": {},
   "outputs": [],
   "source": [
    "# Add new variable to train and test (holdout)\n",
    "# pdays == 999 is a special value\n",
    "# Train\n",
    "train[, 'pdays_999'] <- as.integer(train$pdays == 999)\n",
    "# Test (holdout)\n",
    "test_holdout[, 'pdays_999'] <- as.integer(test_holdout$pdays == 999)"
   ]
  },
  {
   "cell_type": "markdown",
   "metadata": {},
   "source": [
    "#### Add variable: age > mean(age)"
   ]
  },
  {
   "cell_type": "code",
   "execution_count": 10,
   "metadata": {},
   "outputs": [],
   "source": [
    "# Add new variable to train and test (holdout)\n",
    "# Train\n",
    "train[, 'age_ge_mean'] <- as.integer(train$age > mean(train$age))\n",
    "# Test (holdout)\n",
    "test_holdout[, 'age_ge_mean'] <- as.integer(test_holdout$age > mean(train$age))"
   ]
  },
  {
   "cell_type": "markdown",
   "metadata": {},
   "source": [
    "#### Add variable: month_summer"
   ]
  },
  {
   "cell_type": "code",
   "execution_count": 11,
   "metadata": {},
   "outputs": [],
   "source": [
    "# Add new variable to train and test (holdout)\n",
    "# Train\n",
    "train[, 'month_summer'] <- as.integer(train$month %in% c('jul', 'aug'))\n",
    "# Test (holdout)\n",
    "test_holdout[, 'month_summer'] <- as.integer(test_holdout$month %in% c('jul', 'aug'))"
   ]
  },
  {
   "cell_type": "markdown",
   "metadata": {},
   "source": [
    "### 2.3. Processing data"
   ]
  },
  {
   "cell_type": "markdown",
   "metadata": {},
   "source": [
    "#### Grouping (or binning) categorical variables"
   ]
  },
  {
   "cell_type": "code",
   "execution_count": 12,
   "metadata": {},
   "outputs": [
    {
     "data": {
      "text/html": [
       "<ol>\n",
       "\t<li>'job'</li>\n",
       "\t<li><table>\n",
       "<thead><tr><th></th><th scope=col>Group.2</th><th scope=col>Group.1</th><th scope=col>woe</th><th scope=col>iv.total.final</th><th scope=col>1</th><th scope=col>0</th><th scope=col>col.perc.a</th><th scope=col>col.perc.b</th><th scope=col>iv.bins</th></tr></thead>\n",
       "<tbody>\n",
       "\t<tr><th scope=row>7</th><td>blue-collar + services                             </td><td>blue-collar                                        </td><td>-46.7406855                                        </td><td>0.1562879                                          </td><td>170                                                </td><td>2039                                               </td><td>0.2068127                                          </td><td>0.3300421                                          </td><td>5.759828e-02                                       </td></tr>\n",
       "\t<tr><th scope=row>8</th><td>blue-collar + services                             </td><td>services                                           </td><td>-46.7406855                                        </td><td>0.1562879                                          </td><td>170                                                </td><td>2039                                               </td><td>0.2068127                                          </td><td>0.3300421                                          </td><td>5.759828e-02                                       </td></tr>\n",
       "\t<tr><th scope=row>1</th><td>admin. + management + technician + misc. level neg.</td><td>admin.                                             </td><td> -0.9402155                                        </td><td>0.1562879                                          </td><td>455                                                </td><td>3452                                               </td><td>0.5535280                                          </td><td>0.5587569                                          </td><td>4.916292e-05                                       </td></tr>\n",
       "\t<tr><th scope=row>2</th><td>admin. + management + technician + misc. level neg.</td><td>entrepreneur                                       </td><td> -0.9402155                                        </td><td>0.1562879                                          </td><td>455                                                </td><td>3452                                               </td><td>0.5535280                                          </td><td>0.5587569                                          </td><td>4.916292e-05                                       </td></tr>\n",
       "\t<tr><th scope=row>3</th><td>admin. + management + technician + misc. level neg.</td><td>housemaid                                          </td><td> -0.9402155                                        </td><td>0.1562879                                          </td><td>455                                                </td><td>3452                                               </td><td>0.5535280                                          </td><td>0.5587569                                          </td><td>4.916292e-05                                       </td></tr>\n",
       "\t<tr><th scope=row>4</th><td>admin. + management + technician + misc. level neg.</td><td>management                                         </td><td> -0.9402155                                        </td><td>0.1562879                                          </td><td>455                                                </td><td>3452                                               </td><td>0.5535280                                          </td><td>0.5587569                                          </td><td>4.916292e-05                                       </td></tr>\n",
       "\t<tr><th scope=row>5</th><td>admin. + management + technician + misc. level neg.</td><td>technician                                         </td><td> -0.9402155                                        </td><td>0.1562879                                          </td><td>455                                                </td><td>3452                                               </td><td>0.5535280                                          </td><td>0.5587569                                          </td><td>4.916292e-05                                       </td></tr>\n",
       "\t<tr><th scope=row>6</th><td>admin. + management + technician + misc. level neg.</td><td>unknown                                            </td><td> -0.9402155                                        </td><td>0.1562879                                          </td><td>455                                                </td><td>3452                                               </td><td>0.5535280                                          </td><td>0.5587569                                          </td><td>4.916292e-05                                       </td></tr>\n",
       "\t<tr><th scope=row>9</th><td>misc. level pos.                                   </td><td>retired                                            </td><td> 76.7878915                                        </td><td>0.1562879                                          </td><td>197                                                </td><td> 687                                               </td><td>0.2396594                                          </td><td>0.1112010                                          </td><td>9.864044e-02                                       </td></tr>\n",
       "\t<tr><th scope=row>10</th><td>misc. level pos.                                   </td><td>self-employed                                      </td><td> 76.7878915                                        </td><td>0.1562879                                          </td><td>197                                                </td><td> 687                                               </td><td>0.2396594                                          </td><td>0.1112010                                          </td><td>9.864044e-02                                       </td></tr>\n",
       "\t<tr><th scope=row>11</th><td>misc. level pos.                                   </td><td>student                                            </td><td> 76.7878915                                        </td><td>0.1562879                                          </td><td>197                                                </td><td> 687                                               </td><td>0.2396594                                          </td><td>0.1112010                                          </td><td>9.864044e-02                                       </td></tr>\n",
       "\t<tr><th scope=row>12</th><td>misc. level pos.                                   </td><td>unemployed                                         </td><td> 76.7878915                                        </td><td>0.1562879                                          </td><td>197                                                </td><td> 687                                               </td><td>0.2396594                                          </td><td>0.1112010                                          </td><td>9.864044e-02                                       </td></tr>\n",
       "</tbody>\n",
       "</table>\n",
       "</li>\n",
       "\t<li><strong>iv.total.final:</strong> 0.156287888710747</li>\n",
       "</ol>\n"
      ],
      "text/latex": [
       "\\begin{enumerate}\n",
       "\\item 'job'\n",
       "\\item \\begin{tabular}{r|lllllllll}\n",
       "  & Group.2 & Group.1 & woe & iv.total.final & 1 & 0 & col.perc.a & col.perc.b & iv.bins\\\\\n",
       "\\hline\n",
       "\t7 & blue-collar + services                              & blue-collar                                         & -46.7406855                                         & 0.1562879                                           & 170                                                 & 2039                                                & 0.2068127                                           & 0.3300421                                           & 5.759828e-02                                       \\\\\n",
       "\t8 & blue-collar + services                              & services                                            & -46.7406855                                         & 0.1562879                                           & 170                                                 & 2039                                                & 0.2068127                                           & 0.3300421                                           & 5.759828e-02                                       \\\\\n",
       "\t1 & admin. + management + technician + misc. level neg. & admin.                                              &  -0.9402155                                         & 0.1562879                                           & 455                                                 & 3452                                                & 0.5535280                                           & 0.5587569                                           & 4.916292e-05                                       \\\\\n",
       "\t2 & admin. + management + technician + misc. level neg. & entrepreneur                                        &  -0.9402155                                         & 0.1562879                                           & 455                                                 & 3452                                                & 0.5535280                                           & 0.5587569                                           & 4.916292e-05                                       \\\\\n",
       "\t3 & admin. + management + technician + misc. level neg. & housemaid                                           &  -0.9402155                                         & 0.1562879                                           & 455                                                 & 3452                                                & 0.5535280                                           & 0.5587569                                           & 4.916292e-05                                       \\\\\n",
       "\t4 & admin. + management + technician + misc. level neg. & management                                          &  -0.9402155                                         & 0.1562879                                           & 455                                                 & 3452                                                & 0.5535280                                           & 0.5587569                                           & 4.916292e-05                                       \\\\\n",
       "\t5 & admin. + management + technician + misc. level neg. & technician                                          &  -0.9402155                                         & 0.1562879                                           & 455                                                 & 3452                                                & 0.5535280                                           & 0.5587569                                           & 4.916292e-05                                       \\\\\n",
       "\t6 & admin. + management + technician + misc. level neg. & unknown                                             &  -0.9402155                                         & 0.1562879                                           & 455                                                 & 3452                                                & 0.5535280                                           & 0.5587569                                           & 4.916292e-05                                       \\\\\n",
       "\t9 & misc. level pos.                                    & retired                                             &  76.7878915                                         & 0.1562879                                           & 197                                                 &  687                                                & 0.2396594                                           & 0.1112010                                           & 9.864044e-02                                       \\\\\n",
       "\t10 & misc. level pos.                                    & self-employed                                       &  76.7878915                                         & 0.1562879                                           & 197                                                 &  687                                                & 0.2396594                                           & 0.1112010                                           & 9.864044e-02                                       \\\\\n",
       "\t11 & misc. level pos.                                    & student                                             &  76.7878915                                         & 0.1562879                                           & 197                                                 &  687                                                & 0.2396594                                           & 0.1112010                                           & 9.864044e-02                                       \\\\\n",
       "\t12 & misc. level pos.                                    & unemployed                                          &  76.7878915                                         & 0.1562879                                           & 197                                                 &  687                                                & 0.2396594                                           & 0.1112010                                           & 9.864044e-02                                       \\\\\n",
       "\\end{tabular}\n",
       "\n",
       "\\item \\textbf{iv.total.final:} 0.156287888710747\n",
       "\\end{enumerate}\n"
      ],
      "text/markdown": [
       "1. 'job'\n",
       "2. \n",
       "| <!--/--> | Group.2 | Group.1 | woe | iv.total.final | 1 | 0 | col.perc.a | col.perc.b | iv.bins |\n",
       "|---|---|---|---|---|---|---|---|---|---|\n",
       "| 7 | blue-collar + services                              | blue-collar                                         | -46.7406855                                         | 0.1562879                                           | 170                                                 | 2039                                                | 0.2068127                                           | 0.3300421                                           | 5.759828e-02                                        |\n",
       "| 8 | blue-collar + services                              | services                                            | -46.7406855                                         | 0.1562879                                           | 170                                                 | 2039                                                | 0.2068127                                           | 0.3300421                                           | 5.759828e-02                                        |\n",
       "| 1 | admin. + management + technician + misc. level neg. | admin.                                              |  -0.9402155                                         | 0.1562879                                           | 455                                                 | 3452                                                | 0.5535280                                           | 0.5587569                                           | 4.916292e-05                                        |\n",
       "| 2 | admin. + management + technician + misc. level neg. | entrepreneur                                        |  -0.9402155                                         | 0.1562879                                           | 455                                                 | 3452                                                | 0.5535280                                           | 0.5587569                                           | 4.916292e-05                                        |\n",
       "| 3 | admin. + management + technician + misc. level neg. | housemaid                                           |  -0.9402155                                         | 0.1562879                                           | 455                                                 | 3452                                                | 0.5535280                                           | 0.5587569                                           | 4.916292e-05                                        |\n",
       "| 4 | admin. + management + technician + misc. level neg. | management                                          |  -0.9402155                                         | 0.1562879                                           | 455                                                 | 3452                                                | 0.5535280                                           | 0.5587569                                           | 4.916292e-05                                        |\n",
       "| 5 | admin. + management + technician + misc. level neg. | technician                                          |  -0.9402155                                         | 0.1562879                                           | 455                                                 | 3452                                                | 0.5535280                                           | 0.5587569                                           | 4.916292e-05                                        |\n",
       "| 6 | admin. + management + technician + misc. level neg. | unknown                                             |  -0.9402155                                         | 0.1562879                                           | 455                                                 | 3452                                                | 0.5535280                                           | 0.5587569                                           | 4.916292e-05                                        |\n",
       "| 9 | misc. level pos.                                    | retired                                             |  76.7878915                                         | 0.1562879                                           | 197                                                 |  687                                                | 0.2396594                                           | 0.1112010                                           | 9.864044e-02                                        |\n",
       "| 10 | misc. level pos.                                    | self-employed                                       |  76.7878915                                         | 0.1562879                                           | 197                                                 |  687                                                | 0.2396594                                           | 0.1112010                                           | 9.864044e-02                                        |\n",
       "| 11 | misc. level pos.                                    | student                                             |  76.7878915                                         | 0.1562879                                           | 197                                                 |  687                                                | 0.2396594                                           | 0.1112010                                           | 9.864044e-02                                        |\n",
       "| 12 | misc. level pos.                                    | unemployed                                          |  76.7878915                                         | 0.1562879                                           | 197                                                 |  687                                                | 0.2396594                                           | 0.1112010                                           | 9.864044e-02                                        |\n",
       "\n",
       "\n",
       "3. **iv.total.final:** 0.156287888710747\n",
       "\n",
       "\n"
      ],
      "text/plain": [
       "[[1]]\n",
       "[1] \"job\"\n",
       "\n",
       "[[2]]\n",
       "                                               Group.2       Group.1\n",
       "7                               blue-collar + services   blue-collar\n",
       "8                               blue-collar + services      services\n",
       "1  admin. + management + technician + misc. level neg.        admin.\n",
       "2  admin. + management + technician + misc. level neg.  entrepreneur\n",
       "3  admin. + management + technician + misc. level neg.     housemaid\n",
       "4  admin. + management + technician + misc. level neg.    management\n",
       "5  admin. + management + technician + misc. level neg.    technician\n",
       "6  admin. + management + technician + misc. level neg.       unknown\n",
       "9                                     misc. level pos.       retired\n",
       "10                                    misc. level pos. self-employed\n",
       "11                                    misc. level pos.       student\n",
       "12                                    misc. level pos.    unemployed\n",
       "           woe iv.total.final   1    0 col.perc.a col.perc.b      iv.bins\n",
       "7  -46.7406855      0.1562879 170 2039  0.2068127  0.3300421 5.759828e-02\n",
       "8  -46.7406855      0.1562879 170 2039  0.2068127  0.3300421 5.759828e-02\n",
       "1   -0.9402155      0.1562879 455 3452  0.5535280  0.5587569 4.916292e-05\n",
       "2   -0.9402155      0.1562879 455 3452  0.5535280  0.5587569 4.916292e-05\n",
       "3   -0.9402155      0.1562879 455 3452  0.5535280  0.5587569 4.916292e-05\n",
       "4   -0.9402155      0.1562879 455 3452  0.5535280  0.5587569 4.916292e-05\n",
       "5   -0.9402155      0.1562879 455 3452  0.5535280  0.5587569 4.916292e-05\n",
       "6   -0.9402155      0.1562879 455 3452  0.5535280  0.5587569 4.916292e-05\n",
       "9   76.7878915      0.1562879 197  687  0.2396594  0.1112010 9.864044e-02\n",
       "10  76.7878915      0.1562879 197  687  0.2396594  0.1112010 9.864044e-02\n",
       "11  76.7878915      0.1562879 197  687  0.2396594  0.1112010 9.864044e-02\n",
       "12  76.7878915      0.1562879 197  687  0.2396594  0.1112010 9.864044e-02\n",
       "\n",
       "[[3]]\n",
       "iv.total.final \n",
       "     0.1562879 \n"
      ]
     },
     "metadata": {},
     "output_type": "display_data"
    }
   ],
   "source": [
    "# Grouping 12 categories in the variable job onto 3 groups using WOE\n",
    "binning_cat <- woe.binning(train, 'subscribe', 'job')\n",
    "binning_cat"
   ]
  },
  {
   "cell_type": "code",
   "execution_count": 13,
   "metadata": {
    "scrolled": true
   },
   "outputs": [
    {
     "data": {
      "text/html": [
       "<table>\n",
       "<thead><tr><th scope=col>job</th><th scope=col>job.binned</th></tr></thead>\n",
       "<tbody>\n",
       "\t<tr><td>housemaid                                          </td><td>admin. + management + technician + misc. level neg.</td></tr>\n",
       "\t<tr><td>unemployed                                         </td><td>misc. level pos.                                   </td></tr>\n",
       "\t<tr><td>blue-collar                                        </td><td>blue-collar + services                             </td></tr>\n",
       "\t<tr><td>self-employed                                      </td><td>misc. level pos.                                   </td></tr>\n",
       "\t<tr><td>admin.                                             </td><td>admin. + management + technician + misc. level neg.</td></tr>\n",
       "\t<tr><td>self-employed                                      </td><td>misc. level pos.                                   </td></tr>\n",
       "</tbody>\n",
       "</table>\n"
      ],
      "text/latex": [
       "\\begin{tabular}{r|ll}\n",
       " job & job.binned\\\\\n",
       "\\hline\n",
       "\t housemaid                                           & admin. + management + technician + misc. level neg.\\\\\n",
       "\t unemployed                                          & misc. level pos.                                   \\\\\n",
       "\t blue-collar                                         & blue-collar + services                             \\\\\n",
       "\t self-employed                                       & misc. level pos.                                   \\\\\n",
       "\t admin.                                              & admin. + management + technician + misc. level neg.\\\\\n",
       "\t self-employed                                       & misc. level pos.                                   \\\\\n",
       "\\end{tabular}\n"
      ],
      "text/markdown": [
       "\n",
       "| job | job.binned |\n",
       "|---|---|\n",
       "| housemaid                                           | admin. + management + technician + misc. level neg. |\n",
       "| unemployed                                          | misc. level pos.                                    |\n",
       "| blue-collar                                         | blue-collar + services                              |\n",
       "| self-employed                                       | misc. level pos.                                    |\n",
       "| admin.                                              | admin. + management + technician + misc. level neg. |\n",
       "| self-employed                                       | misc. level pos.                                    |\n",
       "\n"
      ],
      "text/plain": [
       "  job           job.binned                                         \n",
       "1 housemaid     admin. + management + technician + misc. level neg.\n",
       "2 unemployed    misc. level pos.                                   \n",
       "3 blue-collar   blue-collar + services                             \n",
       "4 self-employed misc. level pos.                                   \n",
       "5 admin.        admin. + management + technician + misc. level neg.\n",
       "6 self-employed misc. level pos.                                   "
      ]
     },
     "metadata": {},
     "output_type": "display_data"
    }
   ],
   "source": [
    "# Apply the binning to the train data\n",
    "train <- woe.binning.deploy(train, binning_cat)\n",
    "head(train[, c('job', 'job.binned')])"
   ]
  },
  {
   "cell_type": "code",
   "execution_count": 14,
   "metadata": {},
   "outputs": [],
   "source": [
    "# Apply the binning to the test (holdout) data\n",
    "test_holdout <- woe.binning.deploy(test_holdout, binning_cat)"
   ]
  },
  {
   "cell_type": "markdown",
   "metadata": {},
   "source": [
    "#### Grouping (or binning) numerical variables"
   ]
  },
  {
   "cell_type": "code",
   "execution_count": 15,
   "metadata": {},
   "outputs": [
    {
     "data": {
      "text/html": [
       "<ol>\n",
       "\t<li>'age'</li>\n",
       "\t<li><table>\n",
       "<thead><tr><th></th><th scope=col>woe</th><th scope=col>cutpoints.final</th><th scope=col>cutpoints.final[-1]</th><th scope=col>iv.total.final</th><th scope=col>1</th><th scope=col>0</th><th scope=col>col.perc.a</th><th scope=col>col.perc.b</th><th scope=col>iv.bins</th></tr></thead>\n",
       "<tbody>\n",
       "\t<tr><th scope=row>(-Inf,26]</th><td> 57.257909 </td><td>-Inf       </td><td>26         </td><td>0.1546488  </td><td> 71        </td><td> 301       </td><td>0.0863747  </td><td>0.04872127 </td><td>0.021559565</td></tr>\n",
       "\t<tr><th scope=row>(26,36]</th><td>  2.639915 </td><td>  26       </td><td>36         </td><td>0.1546488  </td><td>325        </td><td>2379       </td><td>0.3953771  </td><td>0.38507608 </td><td>0.000271939</td></tr>\n",
       "\t<tr><th scope=row>(36,55]</th><td>-35.822845 </td><td>  36       </td><td>55         </td><td>0.1546488  </td><td>280        </td><td>3011       </td><td>0.3406326  </td><td>0.48737455 </td><td>0.052567141</td></tr>\n",
       "\t<tr><th scope=row>(55, Inf]</th><td> 81.235198 </td><td>  55       </td><td>Inf        </td><td>0.1546488  </td><td>146        </td><td> 487       </td><td>0.1776156  </td><td>0.07882810 </td><td>0.080250198</td></tr>\n",
       "\t<tr><th scope=row>Missing</th><td>        NA </td><td> Inf       </td><td>Missing    </td><td>0.1546488  </td><td>  0        </td><td>   0       </td><td>0.0000000  </td><td>0.00000000 </td><td>         NA</td></tr>\n",
       "</tbody>\n",
       "</table>\n",
       "</li>\n",
       "\t<li><strong>iv.total.final:</strong> 0.15464884355</li>\n",
       "</ol>\n"
      ],
      "text/latex": [
       "\\begin{enumerate}\n",
       "\\item 'age'\n",
       "\\item \\begin{tabular}{r|lllllllll}\n",
       "  & woe & cutpoints.final & cutpoints.final{[}-1{]} & iv.total.final & 1 & 0 & col.perc.a & col.perc.b & iv.bins\\\\\n",
       "\\hline\n",
       "\t(-Inf,26{]} &  57.257909  & -Inf        & 26          & 0.1546488   &  71         &  301        & 0.0863747   & 0.04872127  & 0.021559565\\\\\n",
       "\t(26,36{]} &   2.639915  &   26        & 36          & 0.1546488   & 325         & 2379        & 0.3953771   & 0.38507608  & 0.000271939\\\\\n",
       "\t(36,55{]} & -35.822845  &   36        & 55          & 0.1546488   & 280         & 3011        & 0.3406326   & 0.48737455  & 0.052567141\\\\\n",
       "\t(55, Inf{]} &  81.235198  &   55        & Inf         & 0.1546488   & 146         &  487        & 0.1776156   & 0.07882810  & 0.080250198\\\\\n",
       "\tMissing &         NA  &  Inf        & Missing     & 0.1546488   &   0         &    0        & 0.0000000   & 0.00000000  &          NA\\\\\n",
       "\\end{tabular}\n",
       "\n",
       "\\item \\textbf{iv.total.final:} 0.15464884355\n",
       "\\end{enumerate}\n"
      ],
      "text/markdown": [
       "1. 'age'\n",
       "2. \n",
       "| <!--/--> | woe | cutpoints.final | cutpoints.final[-1] | iv.total.final | 1 | 0 | col.perc.a | col.perc.b | iv.bins |\n",
       "|---|---|---|---|---|---|---|---|---|---|\n",
       "| (-Inf,26] |  57.257909  | -Inf        | 26          | 0.1546488   |  71         |  301        | 0.0863747   | 0.04872127  | 0.021559565 |\n",
       "| (26,36] |   2.639915  |   26        | 36          | 0.1546488   | 325         | 2379        | 0.3953771   | 0.38507608  | 0.000271939 |\n",
       "| (36,55] | -35.822845  |   36        | 55          | 0.1546488   | 280         | 3011        | 0.3406326   | 0.48737455  | 0.052567141 |\n",
       "| (55, Inf] |  81.235198  |   55        | Inf         | 0.1546488   | 146         |  487        | 0.1776156   | 0.07882810  | 0.080250198 |\n",
       "| Missing |         NA  |  Inf        | Missing     | 0.1546488   |   0         |    0        | 0.0000000   | 0.00000000  |          NA |\n",
       "\n",
       "\n",
       "3. **iv.total.final:** 0.15464884355\n",
       "\n",
       "\n"
      ],
      "text/plain": [
       "[[1]]\n",
       "[1] \"age\"\n",
       "\n",
       "[[2]]\n",
       "                 woe cutpoints.final cutpoints.final[-1] iv.total.final   1\n",
       "(-Inf,26]  57.257909            -Inf                  26      0.1546488  71\n",
       "(26,36]     2.639915              26                  36      0.1546488 325\n",
       "(36,55]   -35.822845              36                  55      0.1546488 280\n",
       "(55, Inf]  81.235198              55                 Inf      0.1546488 146\n",
       "Missing           NA             Inf             Missing      0.1546488   0\n",
       "             0 col.perc.a col.perc.b     iv.bins\n",
       "(-Inf,26]  301  0.0863747 0.04872127 0.021559565\n",
       "(26,36]   2379  0.3953771 0.38507608 0.000271939\n",
       "(36,55]   3011  0.3406326 0.48737455 0.052567141\n",
       "(55, Inf]  487  0.1776156 0.07882810 0.080250198\n",
       "Missing      0  0.0000000 0.00000000          NA\n",
       "\n",
       "[[3]]\n",
       "iv.total.final \n",
       "     0.1546488 \n"
      ]
     },
     "metadata": {},
     "output_type": "display_data"
    }
   ],
   "source": [
    "# Grouping the variable age onto 4 groups using WOE\n",
    "binning_num <- woe.binning(train, 'subscribe', 'age')\n",
    "binning_num"
   ]
  },
  {
   "cell_type": "code",
   "execution_count": 16,
   "metadata": {},
   "outputs": [
    {
     "data": {
      "text/html": [
       "<table>\n",
       "<thead><tr><th scope=col>age</th><th scope=col>age.binned</th></tr></thead>\n",
       "<tbody>\n",
       "\t<tr><td>29     </td><td>(26,36]</td></tr>\n",
       "\t<tr><td>39     </td><td>(36,55]</td></tr>\n",
       "\t<tr><td>49     </td><td>(36,55]</td></tr>\n",
       "\t<tr><td>32     </td><td>(26,36]</td></tr>\n",
       "\t<tr><td>29     </td><td>(26,36]</td></tr>\n",
       "\t<tr><td>51     </td><td>(36,55]</td></tr>\n",
       "</tbody>\n",
       "</table>\n"
      ],
      "text/latex": [
       "\\begin{tabular}{r|ll}\n",
       " age & age.binned\\\\\n",
       "\\hline\n",
       "\t 29        & (26,36{]}\\\\\n",
       "\t 39        & (36,55{]}\\\\\n",
       "\t 49        & (36,55{]}\\\\\n",
       "\t 32        & (26,36{]}\\\\\n",
       "\t 29        & (26,36{]}\\\\\n",
       "\t 51        & (36,55{]}\\\\\n",
       "\\end{tabular}\n"
      ],
      "text/markdown": [
       "\n",
       "| age | age.binned |\n",
       "|---|---|\n",
       "| 29      | (26,36] |\n",
       "| 39      | (36,55] |\n",
       "| 49      | (36,55] |\n",
       "| 32      | (26,36] |\n",
       "| 29      | (26,36] |\n",
       "| 51      | (36,55] |\n",
       "\n"
      ],
      "text/plain": [
       "  age age.binned\n",
       "1 29  (26,36]   \n",
       "2 39  (36,55]   \n",
       "3 49  (36,55]   \n",
       "4 32  (26,36]   \n",
       "5 29  (26,36]   \n",
       "6 51  (36,55]   "
      ]
     },
     "metadata": {},
     "output_type": "display_data"
    }
   ],
   "source": [
    "# Apply the binning to the train data\n",
    "train <- woe.binning.deploy(train, binning_num)\n",
    "head(train[, c('age', 'age.binned')])"
   ]
  },
  {
   "cell_type": "code",
   "execution_count": 17,
   "metadata": {},
   "outputs": [],
   "source": [
    "# Apply the binning to the test (holdout) data\n",
    "test_holdout <- woe.binning.deploy(test_holdout, binning_num)"
   ]
  },
  {
   "cell_type": "markdown",
   "metadata": {},
   "source": [
    "#### Convert categorical variables to dummy"
   ]
  },
  {
   "cell_type": "markdown",
   "metadata": {},
   "source": [
    "Get the list of numerical and categorical variables."
   ]
  },
  {
   "cell_type": "code",
   "execution_count": 18,
   "metadata": {},
   "outputs": [],
   "source": [
    "# Get the IV and DV list name\n",
    "# Dependent variable (DV)\n",
    "dv_list <- c('subscribe')\n",
    "# Independent variable (IV)\n",
    "iv_list <- setdiff(colnames(train), dv_list)  # Exclude the target variable\n",
    "iv_list <- setdiff(iv_list, 'client_id')  # Exclude the client_id"
   ]
  },
  {
   "cell_type": "code",
   "execution_count": 19,
   "metadata": {},
   "outputs": [],
   "source": [
    "# Pick out categorical and numerical variable\n",
    "iv_cat_list <- c()  # List to store categorical variable\n",
    "iv_num_list <- c()  # List to store numerical variable\n",
    "for (v in iv_list) {\n",
    "    if (class(train[, v]) == 'factor') {  # Factor == categorical variable\n",
    "        iv_cat_list <- c(iv_cat_list, v)\n",
    "    } else {  # Non-factor == numerical variable\n",
    "        iv_num_list <- c(iv_num_list, v)\n",
    "    }\n",
    "}"
   ]
  },
  {
   "cell_type": "code",
   "execution_count": 20,
   "metadata": {},
   "outputs": [],
   "source": [
    "# Join train and test (holdout) to process data\n",
    "test_holdout$subscribe <- NA  # Create a blank response column on test (holdout data)\n",
    "data <- rbind(train, test_holdout)  # Combine train and test (holdout) data"
   ]
  },
  {
   "cell_type": "markdown",
   "metadata": {},
   "source": [
    "Transform to dummy variables."
   ]
  },
  {
   "cell_type": "code",
   "execution_count": 21,
   "metadata": {},
   "outputs": [],
   "source": [
    "# Loop through all categorical variable\n",
    "# Drop the last column of dummy variable\n",
    "data_dummy_list <- list()\n",
    "for (v in iv_cat_list) {\n",
    "    tmp <- to.dummy(data[, v], v)\n",
    "    data_dummy_list[[length(data_dummy_list) + 1]] <- tmp[, -ncol(tmp), drop=FALSE]\n",
    "}\n",
    "data_dummy <- as.data.frame(do.call(cbind, data_dummy_list))"
   ]
  },
  {
   "cell_type": "code",
   "execution_count": 22,
   "metadata": {},
   "outputs": [],
   "source": [
    "# Drop categorical variables\n",
    "data_processed <- data[, setdiff(colnames(data), iv_cat_list)]\n",
    "\n",
    "# Add dummy vairables\n",
    "data_processed <- cbind(data_processed, data_dummy)"
   ]
  },
  {
   "cell_type": "code",
   "execution_count": 23,
   "metadata": {},
   "outputs": [
    {
     "data": {
      "text/html": [
       "<table>\n",
       "<thead><tr><th scope=col>client_id</th><th scope=col>age</th><th scope=col>campaign</th><th scope=col>pdays</th><th scope=col>previous</th><th scope=col>emp.var.rate</th><th scope=col>cons.price.idx</th><th scope=col>cons.conf.idx</th><th scope=col>euribor3m</th><th scope=col>nr.employed</th><th scope=col>...</th><th scope=col>day_of_week.tue</th><th scope=col>poutcome.failure</th><th scope=col>poutcome.nonexistent</th><th scope=col>job.binned.admin._+_management_+_technician_+_misc._level_neg.</th><th scope=col>job.binned.blue-collar_+_services</th><th scope=col>job.binned.misc._level_pos.</th><th scope=col>age.binned.(-Inf,26]</th><th scope=col>age.binned.(26,36]</th><th scope=col>age.binned.(36,55]</th><th scope=col>age.binned.(55,_Inf]</th></tr></thead>\n",
       "<tbody>\n",
       "\t<tr><td>2     </td><td>29    </td><td>3     </td><td>999   </td><td>0     </td><td> 1.1  </td><td>93.994</td><td>-36.4 </td><td>4.858 </td><td>5191.0</td><td>...   </td><td>0     </td><td>0     </td><td>1     </td><td>1     </td><td>0     </td><td>0     </td><td>0     </td><td>1     </td><td>0     </td><td>0     </td></tr>\n",
       "\t<tr><td>3     </td><td>39    </td><td>6     </td><td>999   </td><td>0     </td><td> 1.4  </td><td>94.465</td><td>-41.8 </td><td>4.959 </td><td>5228.1</td><td>...   </td><td>0     </td><td>0     </td><td>1     </td><td>0     </td><td>0     </td><td>1     </td><td>0     </td><td>0     </td><td>1     </td><td>0     </td></tr>\n",
       "\t<tr><td>4     </td><td>49    </td><td>2     </td><td>999   </td><td>0     </td><td>-0.1  </td><td>93.200</td><td>-42.0 </td><td>4.153 </td><td>5195.8</td><td>...   </td><td>1     </td><td>0     </td><td>1     </td><td>0     </td><td>1     </td><td>0     </td><td>0     </td><td>0     </td><td>1     </td><td>0     </td></tr>\n",
       "\t<tr><td>5     </td><td>32    </td><td>3     </td><td>999   </td><td>1     </td><td>-1.8  </td><td>92.893</td><td>-46.2 </td><td>1.299 </td><td>5099.1</td><td>...   </td><td>0     </td><td>1     </td><td>0     </td><td>0     </td><td>0     </td><td>1     </td><td>0     </td><td>1     </td><td>0     </td><td>0     </td></tr>\n",
       "\t<tr><td>6     </td><td>29    </td><td>2     </td><td>999   </td><td>0     </td><td> 1.4  </td><td>93.918</td><td>-42.7 </td><td>4.963 </td><td>5228.1</td><td>...   </td><td>0     </td><td>0     </td><td>1     </td><td>1     </td><td>0     </td><td>0     </td><td>0     </td><td>1     </td><td>0     </td><td>0     </td></tr>\n",
       "\t<tr><td>7     </td><td>51    </td><td>1     </td><td>999   </td><td>0     </td><td> 1.4  </td><td>94.465</td><td>-41.8 </td><td>4.864 </td><td>5228.1</td><td>...   </td><td>1     </td><td>0     </td><td>1     </td><td>0     </td><td>0     </td><td>1     </td><td>0     </td><td>0     </td><td>1     </td><td>0     </td></tr>\n",
       "</tbody>\n",
       "</table>\n"
      ],
      "text/latex": [
       "\\begin{tabular}{r|lllllllllllllllllllllllllllllllllllllllllllllllllllllllllllllll}\n",
       " client\\_id & age & campaign & pdays & previous & emp.var.rate & cons.price.idx & cons.conf.idx & euribor3m & nr.employed & ... & day\\_of\\_week.tue & poutcome.failure & poutcome.nonexistent & job.binned.admin.\\_+\\_management\\_+\\_technician\\_+\\_misc.\\_level\\_neg. & job.binned.blue-collar\\_+\\_services & job.binned.misc.\\_level\\_pos. & age.binned.(-Inf,26{]} & age.binned.(26,36{]} & age.binned.(36,55{]} & age.binned.(55,\\_Inf{]}\\\\\n",
       "\\hline\n",
       "\t 2      & 29     & 3      & 999    & 0      &  1.1   & 93.994 & -36.4  & 4.858  & 5191.0 & ...    & 0      & 0      & 1      & 1      & 0      & 0      & 0      & 1      & 0      & 0     \\\\\n",
       "\t 3      & 39     & 6      & 999    & 0      &  1.4   & 94.465 & -41.8  & 4.959  & 5228.1 & ...    & 0      & 0      & 1      & 0      & 0      & 1      & 0      & 0      & 1      & 0     \\\\\n",
       "\t 4      & 49     & 2      & 999    & 0      & -0.1   & 93.200 & -42.0  & 4.153  & 5195.8 & ...    & 1      & 0      & 1      & 0      & 1      & 0      & 0      & 0      & 1      & 0     \\\\\n",
       "\t 5      & 32     & 3      & 999    & 1      & -1.8   & 92.893 & -46.2  & 1.299  & 5099.1 & ...    & 0      & 1      & 0      & 0      & 0      & 1      & 0      & 1      & 0      & 0     \\\\\n",
       "\t 6      & 29     & 2      & 999    & 0      &  1.4   & 93.918 & -42.7  & 4.963  & 5228.1 & ...    & 0      & 0      & 1      & 1      & 0      & 0      & 0      & 1      & 0      & 0     \\\\\n",
       "\t 7      & 51     & 1      & 999    & 0      &  1.4   & 94.465 & -41.8  & 4.864  & 5228.1 & ...    & 1      & 0      & 1      & 0      & 0      & 1      & 0      & 0      & 1      & 0     \\\\\n",
       "\\end{tabular}\n"
      ],
      "text/markdown": [
       "\n",
       "| client_id | age | campaign | pdays | previous | emp.var.rate | cons.price.idx | cons.conf.idx | euribor3m | nr.employed | ... | day_of_week.tue | poutcome.failure | poutcome.nonexistent | job.binned.admin._+_management_+_technician_+_misc._level_neg. | job.binned.blue-collar_+_services | job.binned.misc._level_pos. | age.binned.(-Inf,26] | age.binned.(26,36] | age.binned.(36,55] | age.binned.(55,_Inf] |\n",
       "|---|---|---|---|---|---|---|---|---|---|---|---|---|---|---|---|---|---|---|---|---|\n",
       "| 2      | 29     | 3      | 999    | 0      |  1.1   | 93.994 | -36.4  | 4.858  | 5191.0 | ...    | 0      | 0      | 1      | 1      | 0      | 0      | 0      | 1      | 0      | 0      |\n",
       "| 3      | 39     | 6      | 999    | 0      |  1.4   | 94.465 | -41.8  | 4.959  | 5228.1 | ...    | 0      | 0      | 1      | 0      | 0      | 1      | 0      | 0      | 1      | 0      |\n",
       "| 4      | 49     | 2      | 999    | 0      | -0.1   | 93.200 | -42.0  | 4.153  | 5195.8 | ...    | 1      | 0      | 1      | 0      | 1      | 0      | 0      | 0      | 1      | 0      |\n",
       "| 5      | 32     | 3      | 999    | 1      | -1.8   | 92.893 | -46.2  | 1.299  | 5099.1 | ...    | 0      | 1      | 0      | 0      | 0      | 1      | 0      | 1      | 0      | 0      |\n",
       "| 6      | 29     | 2      | 999    | 0      |  1.4   | 93.918 | -42.7  | 4.963  | 5228.1 | ...    | 0      | 0      | 1      | 1      | 0      | 0      | 0      | 1      | 0      | 0      |\n",
       "| 7      | 51     | 1      | 999    | 0      |  1.4   | 94.465 | -41.8  | 4.864  | 5228.1 | ...    | 1      | 0      | 1      | 0      | 0      | 1      | 0      | 0      | 1      | 0      |\n",
       "\n"
      ],
      "text/plain": [
       "  client_id age campaign pdays previous emp.var.rate cons.price.idx\n",
       "1 2         29  3        999   0         1.1         93.994        \n",
       "2 3         39  6        999   0         1.4         94.465        \n",
       "3 4         49  2        999   0        -0.1         93.200        \n",
       "4 5         32  3        999   1        -1.8         92.893        \n",
       "5 6         29  2        999   0         1.4         93.918        \n",
       "6 7         51  1        999   0         1.4         94.465        \n",
       "  cons.conf.idx euribor3m nr.employed ... day_of_week.tue poutcome.failure\n",
       "1 -36.4         4.858     5191.0      ... 0               0               \n",
       "2 -41.8         4.959     5228.1      ... 0               0               \n",
       "3 -42.0         4.153     5195.8      ... 1               0               \n",
       "4 -46.2         1.299     5099.1      ... 0               1               \n",
       "5 -42.7         4.963     5228.1      ... 0               0               \n",
       "6 -41.8         4.864     5228.1      ... 1               0               \n",
       "  poutcome.nonexistent\n",
       "1 1                   \n",
       "2 1                   \n",
       "3 1                   \n",
       "4 0                   \n",
       "5 1                   \n",
       "6 1                   \n",
       "  job.binned.admin._+_management_+_technician_+_misc._level_neg.\n",
       "1 1                                                             \n",
       "2 0                                                             \n",
       "3 0                                                             \n",
       "4 0                                                             \n",
       "5 1                                                             \n",
       "6 0                                                             \n",
       "  job.binned.blue-collar_+_services job.binned.misc._level_pos.\n",
       "1 0                                 0                          \n",
       "2 0                                 1                          \n",
       "3 1                                 0                          \n",
       "4 0                                 1                          \n",
       "5 0                                 0                          \n",
       "6 0                                 1                          \n",
       "  age.binned.(-Inf,26] age.binned.(26,36] age.binned.(36,55]\n",
       "1 0                    1                  0                 \n",
       "2 0                    0                  1                 \n",
       "3 0                    0                  1                 \n",
       "4 0                    1                  0                 \n",
       "5 0                    1                  0                 \n",
       "6 0                    0                  1                 \n",
       "  age.binned.(55,_Inf]\n",
       "1 0                   \n",
       "2 0                   \n",
       "3 0                   \n",
       "4 0                   \n",
       "5 0                   \n",
       "6 0                   "
      ]
     },
     "metadata": {},
     "output_type": "display_data"
    }
   ],
   "source": [
    "# Print the processed data to check\n",
    "head(data_processed)"
   ]
  },
  {
   "cell_type": "code",
   "execution_count": 24,
   "metadata": {},
   "outputs": [],
   "source": [
    "# Split train and test (holdout) after dummitizing\n",
    "train_processed <- data_processed[!is.na(data_processed$subscribe), ]\n",
    "test_holdout_processed <- data_processed[is.na(data_processed$subscribe), -ncol(data_processed)]"
   ]
  },
  {
   "cell_type": "markdown",
   "metadata": {},
   "source": [
    "#### Variable transformation"
   ]
  },
  {
   "cell_type": "markdown",
   "metadata": {},
   "source": [
    "Log transformation numerical variable."
   ]
  },
  {
   "cell_type": "code",
   "execution_count": 25,
   "metadata": {},
   "outputs": [],
   "source": [
    "# Transform the variable age on train and test (holdout)\n",
    "# Train\n",
    "train_processed[, 'age_log'] <- log(train_processed$age)\n",
    "# Test (holdout)\n",
    "test_holdout_processed[, 'age_log'] <- log(test_holdout_processed$age)"
   ]
  },
  {
   "cell_type": "markdown",
   "metadata": {},
   "source": [
    "Standardize numerical variable."
   ]
  },
  {
   "cell_type": "code",
   "execution_count": 26,
   "metadata": {},
   "outputs": [],
   "source": [
    "# Standardize the variable age on train and test (holdout)\n",
    "# Train\n",
    "train_processed[, 'age_scaled'] <- scale(train_processed$age, center =TRUE, scale=TRUE)  # sd = 1, mean = 0\n",
    "# Test (holdout)\n",
    "test_holdout_processed[, 'age_scaled'] <- scale(test_holdout_processed$age, center =TRUE, scale=TRUE)  # sd = 1, mean = 0"
   ]
  },
  {
   "cell_type": "markdown",
   "metadata": {},
   "source": [
    "### 2.4. Variable selection: Fisher Score\n",
    "\n",
    "Another method - Boruta: https://www.datacamp.com/community/tutorials/feature-selection-R-boruta"
   ]
  },
  {
   "cell_type": "code",
   "execution_count": 27,
   "metadata": {},
   "outputs": [],
   "source": [
    "FisherScore <- function(basetable, depvar, IV_list) {\n",
    "  \"\n",
    "  This function calculate the Fisher score of a variable.\n",
    "  \n",
    "  Ref:\n",
    "  ---\n",
    "  Verbeke, W., Dejaeger, K., Martens, D., Hur, J., & Baesens, B. (2012). New insights into churn prediction in the telecommunication sector: A profit driven data mining approach. European Journal of Operational Research, 218(1), 211-229.\n",
    "  \"\n",
    "  \n",
    "  # Get the unique values of dependent variable\n",
    "  DV <- unique(basetable[, depvar])\n",
    "  \n",
    "  IV_FisherScore <- c()\n",
    "  \n",
    "  for (v in IV_list) {\n",
    "    fs <- abs((mean(basetable[which(basetable[, depvar]==DV[1]), v]) - mean(basetable[which(basetable[, depvar]==DV[2]), v]))) /\n",
    "      sqrt((var(basetable[which(basetable[, depvar]==DV[1]), v]) + var(basetable[which(basetable[, depvar]==DV[2]), v])))\n",
    "    IV_FisherScore <- c(IV_FisherScore, fs)\n",
    "  }\n",
    "  \n",
    "  return(data.frame(IV=IV_list, fisher_score=IV_FisherScore))\n",
    "}\n",
    "\n",
    "varSelectionFisher <- function(basetable, depvar, IV_list, num_select=20) {\n",
    "  \"\n",
    "  This function will calculate the Fisher score for all IVs and select the best\n",
    "  top IVs.\n",
    "\n",
    "  Assumption: all variables of input dataset are converted into numeric type.\n",
    "  \"\n",
    "  \n",
    "  fs <- FisherScore(basetable, depvar, IV_list)  # Calculate Fisher Score for all IVs\n",
    "  num_select <- min(num_select, ncol(basetable))  # Top N IVs to be selected\n",
    "  return(as.vector(fs[order(fs$fisher_score, decreasing=T), ][1:num_select, 'IV']))\n",
    "}"
   ]
  },
  {
   "cell_type": "code",
   "execution_count": 28,
   "metadata": {},
   "outputs": [
    {
     "data": {
      "text/html": [
       "<table>\n",
       "<thead><tr><th scope=col>IV</th><th scope=col>fisher_score</th></tr></thead>\n",
       "<tbody>\n",
       "\t<tr><td>age           </td><td>0.08399095    </td></tr>\n",
       "\t<tr><td>campaign      </td><td>0.14422181    </td></tr>\n",
       "\t<tr><td>pdays         </td><td>0.45039557    </td></tr>\n",
       "\t<tr><td>previous      </td><td>0.38126476    </td></tr>\n",
       "\t<tr><td>emp.var.rate  </td><td>0.67808361    </td></tr>\n",
       "\t<tr><td>cons.price.idx</td><td>0.30255045    </td></tr>\n",
       "</tbody>\n",
       "</table>\n"
      ],
      "text/latex": [
       "\\begin{tabular}{r|ll}\n",
       " IV & fisher\\_score\\\\\n",
       "\\hline\n",
       "\t age            & 0.08399095    \\\\\n",
       "\t campaign       & 0.14422181    \\\\\n",
       "\t pdays          & 0.45039557    \\\\\n",
       "\t previous       & 0.38126476    \\\\\n",
       "\t emp.var.rate   & 0.67808361    \\\\\n",
       "\t cons.price.idx & 0.30255045    \\\\\n",
       "\\end{tabular}\n"
      ],
      "text/markdown": [
       "\n",
       "| IV | fisher_score |\n",
       "|---|---|\n",
       "| age            | 0.08399095     |\n",
       "| campaign       | 0.14422181     |\n",
       "| pdays          | 0.45039557     |\n",
       "| previous       | 0.38126476     |\n",
       "| emp.var.rate   | 0.67808361     |\n",
       "| cons.price.idx | 0.30255045     |\n",
       "\n"
      ],
      "text/plain": [
       "  IV             fisher_score\n",
       "1 age            0.08399095  \n",
       "2 campaign       0.14422181  \n",
       "3 pdays          0.45039557  \n",
       "4 previous       0.38126476  \n",
       "5 emp.var.rate   0.67808361  \n",
       "6 cons.price.idx 0.30255045  "
      ]
     },
     "metadata": {},
     "output_type": "display_data"
    }
   ],
   "source": [
    "# Calculate Fisher Score for all variable\n",
    "# Get the IV and DV list\n",
    "dv_list <- c('subscribe')  # DV list\n",
    "iv_list <- setdiff(names(train_processed), dv_list)  # IV list excluded DV\n",
    "iv_list <- setdiff(iv_list, 'client_id')  # Excluded the client_id\n",
    "fs <- FisherScore(train_processed, dv_list, iv_list)\n",
    "head(fs)"
   ]
  },
  {
   "cell_type": "code",
   "execution_count": 29,
   "metadata": {},
   "outputs": [
    {
     "data": {
      "text/html": [
       "<ol class=list-inline>\n",
       "\t<li>'nr.employed'</li>\n",
       "\t<li>'euribor3m'</li>\n",
       "\t<li>'emp.var.rate'</li>\n",
       "\t<li>'pdays'</li>\n",
       "\t<li>'pdays_999'</li>\n",
       "\t<li>'contact.cellular'</li>\n",
       "\t<li>'previous'</li>\n",
       "\t<li>'poutcome.nonexistent'</li>\n",
       "\t<li>'cons.price.idx'</li>\n",
       "\t<li>'month.may'</li>\n",
       "\t<li>'month.oct'</li>\n",
       "\t<li>'job.binned.misc._level_pos.'</li>\n",
       "\t<li>'default.no'</li>\n",
       "\t<li>'age.binned.(36,55]'</li>\n",
       "\t<li>'age.binned.(55,_Inf]'</li>\n",
       "\t<li>'month.mar'</li>\n",
       "\t<li>'job.binned.blue-collar_+_services'</li>\n",
       "\t<li>'job.retired'</li>\n",
       "\t<li>'job.student'</li>\n",
       "\t<li>'job.blue-collar'</li>\n",
       "</ol>\n"
      ],
      "text/latex": [
       "\\begin{enumerate*}\n",
       "\\item 'nr.employed'\n",
       "\\item 'euribor3m'\n",
       "\\item 'emp.var.rate'\n",
       "\\item 'pdays'\n",
       "\\item 'pdays\\_999'\n",
       "\\item 'contact.cellular'\n",
       "\\item 'previous'\n",
       "\\item 'poutcome.nonexistent'\n",
       "\\item 'cons.price.idx'\n",
       "\\item 'month.may'\n",
       "\\item 'month.oct'\n",
       "\\item 'job.binned.misc.\\_level\\_pos.'\n",
       "\\item 'default.no'\n",
       "\\item 'age.binned.(36,55{]}'\n",
       "\\item 'age.binned.(55,\\_Inf{]}'\n",
       "\\item 'month.mar'\n",
       "\\item 'job.binned.blue-collar\\_+\\_services'\n",
       "\\item 'job.retired'\n",
       "\\item 'job.student'\n",
       "\\item 'job.blue-collar'\n",
       "\\end{enumerate*}\n"
      ],
      "text/markdown": [
       "1. 'nr.employed'\n",
       "2. 'euribor3m'\n",
       "3. 'emp.var.rate'\n",
       "4. 'pdays'\n",
       "5. 'pdays_999'\n",
       "6. 'contact.cellular'\n",
       "7. 'previous'\n",
       "8. 'poutcome.nonexistent'\n",
       "9. 'cons.price.idx'\n",
       "10. 'month.may'\n",
       "11. 'month.oct'\n",
       "12. 'job.binned.misc._level_pos.'\n",
       "13. 'default.no'\n",
       "14. 'age.binned.(36,55]'\n",
       "15. 'age.binned.(55,_Inf]'\n",
       "16. 'month.mar'\n",
       "17. 'job.binned.blue-collar_+_services'\n",
       "18. 'job.retired'\n",
       "19. 'job.student'\n",
       "20. 'job.blue-collar'\n",
       "\n",
       "\n"
      ],
      "text/plain": [
       " [1] \"nr.employed\"                       \"euribor3m\"                        \n",
       " [3] \"emp.var.rate\"                      \"pdays\"                            \n",
       " [5] \"pdays_999\"                         \"contact.cellular\"                 \n",
       " [7] \"previous\"                          \"poutcome.nonexistent\"             \n",
       " [9] \"cons.price.idx\"                    \"month.may\"                        \n",
       "[11] \"month.oct\"                         \"job.binned.misc._level_pos.\"      \n",
       "[13] \"default.no\"                        \"age.binned.(36,55]\"               \n",
       "[15] \"age.binned.(55,_Inf]\"              \"month.mar\"                        \n",
       "[17] \"job.binned.blue-collar_+_services\" \"job.retired\"                      \n",
       "[19] \"job.student\"                       \"job.blue-collar\"                  "
      ]
     },
     "metadata": {},
     "output_type": "display_data"
    }
   ],
   "source": [
    "# Select top 20 variables according to the Fisher Score\n",
    "best_fs_var <- varSelectionFisher(train_processed, dv_list, iv_list, num_select=20)\n",
    "best_fs_var"
   ]
  },
  {
   "cell_type": "code",
   "execution_count": 30,
   "metadata": {},
   "outputs": [
    {
     "data": {
      "text/html": [
       "<ol class=list-inline>\n",
       "\t<li>'client_id'</li>\n",
       "\t<li>'FALSE'</li>\n",
       "\t<li>'FALSE'</li>\n",
       "\t<li>'FALSE'</li>\n",
       "\t<li>'TRUE'</li>\n",
       "\t<li>'TRUE'</li>\n",
       "\t<li>'TRUE'</li>\n",
       "\t<li>'TRUE'</li>\n",
       "\t<li>'FALSE'</li>\n",
       "\t<li>'TRUE'</li>\n",
       "\t<li>'TRUE'</li>\n",
       "\t<li>'FALSE'</li>\n",
       "\t<li>'TRUE'</li>\n",
       "\t<li>'FALSE'</li>\n",
       "\t<li>'FALSE'</li>\n",
       "\t<li>'FALSE'</li>\n",
       "\t<li>'TRUE'</li>\n",
       "\t<li>'FALSE'</li>\n",
       "\t<li>'FALSE'</li>\n",
       "\t<li>'FALSE'</li>\n",
       "\t<li>'TRUE'</li>\n",
       "\t<li>'FALSE'</li>\n",
       "\t<li>'FALSE'</li>\n",
       "\t<li>'TRUE'</li>\n",
       "\t<li>'FALSE'</li>\n",
       "\t<li>'FALSE'</li>\n",
       "\t<li>'FALSE'</li>\n",
       "\t<li>'FALSE'</li>\n",
       "\t<li>'FALSE'</li>\n",
       "\t<li>'FALSE'</li>\n",
       "\t<li>'FALSE'</li>\n",
       "\t<li>'FALSE'</li>\n",
       "\t<li>'FALSE'</li>\n",
       "\t<li>'FALSE'</li>\n",
       "\t<li>'FALSE'</li>\n",
       "\t<li>'FALSE'</li>\n",
       "\t<li>'TRUE'</li>\n",
       "\t<li>'FALSE'</li>\n",
       "\t<li>'FALSE'</li>\n",
       "\t<li>'FALSE'</li>\n",
       "\t<li>'FALSE'</li>\n",
       "\t<li>'TRUE'</li>\n",
       "\t<li>'FALSE'</li>\n",
       "\t<li>'FALSE'</li>\n",
       "\t<li>'FALSE'</li>\n",
       "\t<li>'FALSE'</li>\n",
       "\t<li>'FALSE'</li>\n",
       "\t<li>'TRUE'</li>\n",
       "\t<li>'TRUE'</li>\n",
       "\t<li>'FALSE'</li>\n",
       "\t<li>'TRUE'</li>\n",
       "\t<li>'FALSE'</li>\n",
       "\t<li>'FALSE'</li>\n",
       "\t<li>'FALSE'</li>\n",
       "\t<li>'FALSE'</li>\n",
       "\t<li>'FALSE'</li>\n",
       "\t<li>'TRUE'</li>\n",
       "\t<li>'FALSE'</li>\n",
       "\t<li>'TRUE'</li>\n",
       "\t<li>'TRUE'</li>\n",
       "\t<li>'FALSE'</li>\n",
       "\t<li>'FALSE'</li>\n",
       "\t<li>'TRUE'</li>\n",
       "\t<li>'TRUE'</li>\n",
       "\t<li>'FALSE'</li>\n",
       "\t<li>'FALSE'</li>\n",
       "\t<li>'subscribe'</li>\n",
       "</ol>\n"
      ],
      "text/latex": [
       "\\begin{enumerate*}\n",
       "\\item 'client\\_id'\n",
       "\\item 'FALSE'\n",
       "\\item 'FALSE'\n",
       "\\item 'FALSE'\n",
       "\\item 'TRUE'\n",
       "\\item 'TRUE'\n",
       "\\item 'TRUE'\n",
       "\\item 'TRUE'\n",
       "\\item 'FALSE'\n",
       "\\item 'TRUE'\n",
       "\\item 'TRUE'\n",
       "\\item 'FALSE'\n",
       "\\item 'TRUE'\n",
       "\\item 'FALSE'\n",
       "\\item 'FALSE'\n",
       "\\item 'FALSE'\n",
       "\\item 'TRUE'\n",
       "\\item 'FALSE'\n",
       "\\item 'FALSE'\n",
       "\\item 'FALSE'\n",
       "\\item 'TRUE'\n",
       "\\item 'FALSE'\n",
       "\\item 'FALSE'\n",
       "\\item 'TRUE'\n",
       "\\item 'FALSE'\n",
       "\\item 'FALSE'\n",
       "\\item 'FALSE'\n",
       "\\item 'FALSE'\n",
       "\\item 'FALSE'\n",
       "\\item 'FALSE'\n",
       "\\item 'FALSE'\n",
       "\\item 'FALSE'\n",
       "\\item 'FALSE'\n",
       "\\item 'FALSE'\n",
       "\\item 'FALSE'\n",
       "\\item 'FALSE'\n",
       "\\item 'TRUE'\n",
       "\\item 'FALSE'\n",
       "\\item 'FALSE'\n",
       "\\item 'FALSE'\n",
       "\\item 'FALSE'\n",
       "\\item 'TRUE'\n",
       "\\item 'FALSE'\n",
       "\\item 'FALSE'\n",
       "\\item 'FALSE'\n",
       "\\item 'FALSE'\n",
       "\\item 'FALSE'\n",
       "\\item 'TRUE'\n",
       "\\item 'TRUE'\n",
       "\\item 'FALSE'\n",
       "\\item 'TRUE'\n",
       "\\item 'FALSE'\n",
       "\\item 'FALSE'\n",
       "\\item 'FALSE'\n",
       "\\item 'FALSE'\n",
       "\\item 'FALSE'\n",
       "\\item 'TRUE'\n",
       "\\item 'FALSE'\n",
       "\\item 'TRUE'\n",
       "\\item 'TRUE'\n",
       "\\item 'FALSE'\n",
       "\\item 'FALSE'\n",
       "\\item 'TRUE'\n",
       "\\item 'TRUE'\n",
       "\\item 'FALSE'\n",
       "\\item 'FALSE'\n",
       "\\item 'subscribe'\n",
       "\\end{enumerate*}\n"
      ],
      "text/markdown": [
       "1. 'client_id'\n",
       "2. 'FALSE'\n",
       "3. 'FALSE'\n",
       "4. 'FALSE'\n",
       "5. 'TRUE'\n",
       "6. 'TRUE'\n",
       "7. 'TRUE'\n",
       "8. 'TRUE'\n",
       "9. 'FALSE'\n",
       "10. 'TRUE'\n",
       "11. 'TRUE'\n",
       "12. 'FALSE'\n",
       "13. 'TRUE'\n",
       "14. 'FALSE'\n",
       "15. 'FALSE'\n",
       "16. 'FALSE'\n",
       "17. 'TRUE'\n",
       "18. 'FALSE'\n",
       "19. 'FALSE'\n",
       "20. 'FALSE'\n",
       "21. 'TRUE'\n",
       "22. 'FALSE'\n",
       "23. 'FALSE'\n",
       "24. 'TRUE'\n",
       "25. 'FALSE'\n",
       "26. 'FALSE'\n",
       "27. 'FALSE'\n",
       "28. 'FALSE'\n",
       "29. 'FALSE'\n",
       "30. 'FALSE'\n",
       "31. 'FALSE'\n",
       "32. 'FALSE'\n",
       "33. 'FALSE'\n",
       "34. 'FALSE'\n",
       "35. 'FALSE'\n",
       "36. 'FALSE'\n",
       "37. 'TRUE'\n",
       "38. 'FALSE'\n",
       "39. 'FALSE'\n",
       "40. 'FALSE'\n",
       "41. 'FALSE'\n",
       "42. 'TRUE'\n",
       "43. 'FALSE'\n",
       "44. 'FALSE'\n",
       "45. 'FALSE'\n",
       "46. 'FALSE'\n",
       "47. 'FALSE'\n",
       "48. 'TRUE'\n",
       "49. 'TRUE'\n",
       "50. 'FALSE'\n",
       "51. 'TRUE'\n",
       "52. 'FALSE'\n",
       "53. 'FALSE'\n",
       "54. 'FALSE'\n",
       "55. 'FALSE'\n",
       "56. 'FALSE'\n",
       "57. 'TRUE'\n",
       "58. 'FALSE'\n",
       "59. 'TRUE'\n",
       "60. 'TRUE'\n",
       "61. 'FALSE'\n",
       "62. 'FALSE'\n",
       "63. 'TRUE'\n",
       "64. 'TRUE'\n",
       "65. 'FALSE'\n",
       "66. 'FALSE'\n",
       "67. 'subscribe'\n",
       "\n",
       "\n"
      ],
      "text/plain": [
       " [1] \"client_id\" \"FALSE\"     \"FALSE\"     \"FALSE\"     \"TRUE\"      \"TRUE\"     \n",
       " [7] \"TRUE\"      \"TRUE\"      \"FALSE\"     \"TRUE\"      \"TRUE\"      \"FALSE\"    \n",
       "[13] \"TRUE\"      \"FALSE\"     \"FALSE\"     \"FALSE\"     \"TRUE\"      \"FALSE\"    \n",
       "[19] \"FALSE\"     \"FALSE\"     \"TRUE\"      \"FALSE\"     \"FALSE\"     \"TRUE\"     \n",
       "[25] \"FALSE\"     \"FALSE\"     \"FALSE\"     \"FALSE\"     \"FALSE\"     \"FALSE\"    \n",
       "[31] \"FALSE\"     \"FALSE\"     \"FALSE\"     \"FALSE\"     \"FALSE\"     \"FALSE\"    \n",
       "[37] \"TRUE\"      \"FALSE\"     \"FALSE\"     \"FALSE\"     \"FALSE\"     \"TRUE\"     \n",
       "[43] \"FALSE\"     \"FALSE\"     \"FALSE\"     \"FALSE\"     \"FALSE\"     \"TRUE\"     \n",
       "[49] \"TRUE\"      \"FALSE\"     \"TRUE\"      \"FALSE\"     \"FALSE\"     \"FALSE\"    \n",
       "[55] \"FALSE\"     \"FALSE\"     \"TRUE\"      \"FALSE\"     \"TRUE\"      \"TRUE\"     \n",
       "[61] \"FALSE\"     \"FALSE\"     \"TRUE\"      \"TRUE\"      \"FALSE\"     \"FALSE\"    \n",
       "[67] \"subscribe\""
      ]
     },
     "metadata": {},
     "output_type": "display_data"
    }
   ],
   "source": [
    "c('client_id', names(train_processed) %in% best_fs_var, 'subscribe')"
   ]
  },
  {
   "cell_type": "code",
   "execution_count": 31,
   "metadata": {},
   "outputs": [],
   "source": [
    "# Apply variable selection on train and test (holdout)\n",
    "# Train\n",
    "train_var_select <- names(train_processed)[names(train_processed) %in% best_fs_var]\n",
    "train_processed <- train_processed[, c('client_id', train_var_select, 'subscribe')]\n",
    "# Test (holdout)\n",
    "test_hd_var_select <- names(test_holdout_processed)[names(test_holdout_processed) %in% best_fs_var]\n",
    "test_holdout_processed <- test_holdout_processed[, c('client_id', test_hd_var_select)]"
   ]
  },
  {
   "cell_type": "markdown",
   "metadata": {},
   "source": [
    "### 2.5. Finalize data processing"
   ]
  },
  {
   "cell_type": "code",
   "execution_count": 32,
   "metadata": {},
   "outputs": [
    {
     "data": {
      "text/html": [
       "<ol class=list-inline>\n",
       "\t<li>7000</li>\n",
       "\t<li>22</li>\n",
       "</ol>\n"
      ],
      "text/latex": [
       "\\begin{enumerate*}\n",
       "\\item 7000\n",
       "\\item 22\n",
       "\\end{enumerate*}\n"
      ],
      "text/markdown": [
       "1. 7000\n",
       "2. 22\n",
       "\n",
       "\n"
      ],
      "text/plain": [
       "[1] 7000   22"
      ]
     },
     "metadata": {},
     "output_type": "display_data"
    },
    {
     "data": {
      "text/html": [
       "<ol class=list-inline>\n",
       "\t<li>3000</li>\n",
       "\t<li>20</li>\n",
       "</ol>\n"
      ],
      "text/latex": [
       "\\begin{enumerate*}\n",
       "\\item 3000\n",
       "\\item 20\n",
       "\\end{enumerate*}\n"
      ],
      "text/markdown": [
       "1. 3000\n",
       "2. 20\n",
       "\n",
       "\n"
      ],
      "text/plain": [
       "[1] 3000   20"
      ]
     },
     "metadata": {},
     "output_type": "display_data"
    }
   ],
   "source": [
    "# Check if train and test (holdout) have same variables\n",
    "dim(train_processed)\n",
    "dim(test_holdout_processed)"
   ]
  },
  {
   "cell_type": "code",
   "execution_count": 33,
   "metadata": {},
   "outputs": [
    {
     "data": {
      "text/html": [
       "'age.binned.(55,_Inf]'"
      ],
      "text/latex": [
       "'age.binned.(55,\\_Inf{]}'"
      ],
      "text/markdown": [
       "'age.binned.(55,_Inf]'"
      ],
      "text/plain": [
       "[1] \"age.binned.(55,_Inf]\""
      ]
     },
     "metadata": {},
     "output_type": "display_data"
    }
   ],
   "source": [
    "# Add some columns in train but not in test (holdout)\n",
    "missing_test_var <- setdiff(names(train_processed), names(test_holdout_processed))\n",
    "missing_test_var <- setdiff(missing_test_var, 'subscribe')  # Exclude the target variable\n",
    "missing_test_var\n",
    "\n",
    "# Add this variable to test (holdout) data, value = 0\n",
    "test_holdout_processed[, missing_test_var] <- 0"
   ]
  },
  {
   "cell_type": "code",
   "execution_count": 34,
   "metadata": {},
   "outputs": [],
   "source": [
    "# Rename the data columns\n",
    "# Train\n",
    "for (v in colnames(train_processed)) {\n",
    "    fix_name <- str_replace_all(v, \"[^[:alnum:] ]\", \"_\")\n",
    "    colnames(train_processed)[colnames(train_processed) == v] <- fix_name\n",
    "}\n",
    "# Test (holdout)\n",
    "for (v in colnames(test_holdout_processed)) {\n",
    "    fix_name <- str_replace_all(v, \"[^[:alnum:] ]\", \"_\")\n",
    "    colnames(test_holdout_processed)[colnames(test_holdout_processed) == v] <- fix_name\n",
    "}"
   ]
  },
  {
   "cell_type": "code",
   "execution_count": 35,
   "metadata": {},
   "outputs": [
    {
     "data": {
      "text/html": [
       "<table>\n",
       "<thead><tr><th scope=col>client_id</th><th scope=col>pdays</th><th scope=col>previous</th><th scope=col>emp_var_rate</th><th scope=col>cons_price_idx</th><th scope=col>euribor3m</th><th scope=col>nr_employed</th><th scope=col>pdays_999</th><th scope=col>job_blue_collar</th><th scope=col>job_retired</th><th scope=col>...</th><th scope=col>contact_cellular</th><th scope=col>month_mar</th><th scope=col>month_may</th><th scope=col>month_oct</th><th scope=col>poutcome_nonexistent</th><th scope=col>job_binned_blue_collar___services</th><th scope=col>job_binned_misc__level_pos_</th><th scope=col>age_binned__36_55_</th><th scope=col>age_binned__55__Inf_</th><th scope=col>subscribe</th></tr></thead>\n",
       "<tbody>\n",
       "\t<tr><td>2     </td><td>999   </td><td>0     </td><td> 1.1  </td><td>93.994</td><td>4.858 </td><td>5191.0</td><td>1     </td><td>0     </td><td>0     </td><td>...   </td><td>0     </td><td>0     </td><td>1     </td><td>0     </td><td>1     </td><td>0     </td><td>0     </td><td>0     </td><td>0     </td><td>0     </td></tr>\n",
       "\t<tr><td>3     </td><td>999   </td><td>0     </td><td> 1.4  </td><td>94.465</td><td>4.959 </td><td>5228.1</td><td>1     </td><td>0     </td><td>0     </td><td>...   </td><td>0     </td><td>0     </td><td>0     </td><td>0     </td><td>1     </td><td>0     </td><td>1     </td><td>1     </td><td>0     </td><td>0     </td></tr>\n",
       "\t<tr><td>4     </td><td>999   </td><td>0     </td><td>-0.1  </td><td>93.200</td><td>4.153 </td><td>5195.8</td><td>1     </td><td>1     </td><td>0     </td><td>...   </td><td>1     </td><td>0     </td><td>0     </td><td>0     </td><td>1     </td><td>1     </td><td>0     </td><td>1     </td><td>0     </td><td>0     </td></tr>\n",
       "\t<tr><td>5     </td><td>999   </td><td>1     </td><td>-1.8  </td><td>92.893</td><td>1.299 </td><td>5099.1</td><td>1     </td><td>0     </td><td>0     </td><td>...   </td><td>1     </td><td>0     </td><td>1     </td><td>0     </td><td>0     </td><td>0     </td><td>1     </td><td>0     </td><td>0     </td><td>0     </td></tr>\n",
       "\t<tr><td>6     </td><td>999   </td><td>0     </td><td> 1.4  </td><td>93.918</td><td>4.963 </td><td>5228.1</td><td>1     </td><td>0     </td><td>0     </td><td>...   </td><td>1     </td><td>0     </td><td>0     </td><td>0     </td><td>1     </td><td>0     </td><td>0     </td><td>0     </td><td>0     </td><td>0     </td></tr>\n",
       "\t<tr><td>7     </td><td>999   </td><td>0     </td><td> 1.4  </td><td>94.465</td><td>4.864 </td><td>5228.1</td><td>1     </td><td>0     </td><td>0     </td><td>...   </td><td>0     </td><td>0     </td><td>0     </td><td>0     </td><td>1     </td><td>0     </td><td>1     </td><td>1     </td><td>0     </td><td>0     </td></tr>\n",
       "</tbody>\n",
       "</table>\n"
      ],
      "text/latex": [
       "\\begin{tabular}{r|llllllllllllllllllllll}\n",
       " client\\_id & pdays & previous & emp\\_var\\_rate & cons\\_price\\_idx & euribor3m & nr\\_employed & pdays\\_999 & job\\_blue\\_collar & job\\_retired & ... & contact\\_cellular & month\\_mar & month\\_may & month\\_oct & poutcome\\_nonexistent & job\\_binned\\_blue\\_collar\\_\\_\\_services & job\\_binned\\_misc\\_\\_level\\_pos\\_ & age\\_binned\\_\\_36\\_55\\_ & age\\_binned\\_\\_55\\_\\_Inf\\_ & subscribe\\\\\n",
       "\\hline\n",
       "\t 2      & 999    & 0      &  1.1   & 93.994 & 4.858  & 5191.0 & 1      & 0      & 0      & ...    & 0      & 0      & 1      & 0      & 1      & 0      & 0      & 0      & 0      & 0     \\\\\n",
       "\t 3      & 999    & 0      &  1.4   & 94.465 & 4.959  & 5228.1 & 1      & 0      & 0      & ...    & 0      & 0      & 0      & 0      & 1      & 0      & 1      & 1      & 0      & 0     \\\\\n",
       "\t 4      & 999    & 0      & -0.1   & 93.200 & 4.153  & 5195.8 & 1      & 1      & 0      & ...    & 1      & 0      & 0      & 0      & 1      & 1      & 0      & 1      & 0      & 0     \\\\\n",
       "\t 5      & 999    & 1      & -1.8   & 92.893 & 1.299  & 5099.1 & 1      & 0      & 0      & ...    & 1      & 0      & 1      & 0      & 0      & 0      & 1      & 0      & 0      & 0     \\\\\n",
       "\t 6      & 999    & 0      &  1.4   & 93.918 & 4.963  & 5228.1 & 1      & 0      & 0      & ...    & 1      & 0      & 0      & 0      & 1      & 0      & 0      & 0      & 0      & 0     \\\\\n",
       "\t 7      & 999    & 0      &  1.4   & 94.465 & 4.864  & 5228.1 & 1      & 0      & 0      & ...    & 0      & 0      & 0      & 0      & 1      & 0      & 1      & 1      & 0      & 0     \\\\\n",
       "\\end{tabular}\n"
      ],
      "text/markdown": [
       "\n",
       "| client_id | pdays | previous | emp_var_rate | cons_price_idx | euribor3m | nr_employed | pdays_999 | job_blue_collar | job_retired | ... | contact_cellular | month_mar | month_may | month_oct | poutcome_nonexistent | job_binned_blue_collar___services | job_binned_misc__level_pos_ | age_binned__36_55_ | age_binned__55__Inf_ | subscribe |\n",
       "|---|---|---|---|---|---|---|---|---|---|---|---|---|---|---|---|---|---|---|---|---|\n",
       "| 2      | 999    | 0      |  1.1   | 93.994 | 4.858  | 5191.0 | 1      | 0      | 0      | ...    | 0      | 0      | 1      | 0      | 1      | 0      | 0      | 0      | 0      | 0      |\n",
       "| 3      | 999    | 0      |  1.4   | 94.465 | 4.959  | 5228.1 | 1      | 0      | 0      | ...    | 0      | 0      | 0      | 0      | 1      | 0      | 1      | 1      | 0      | 0      |\n",
       "| 4      | 999    | 0      | -0.1   | 93.200 | 4.153  | 5195.8 | 1      | 1      | 0      | ...    | 1      | 0      | 0      | 0      | 1      | 1      | 0      | 1      | 0      | 0      |\n",
       "| 5      | 999    | 1      | -1.8   | 92.893 | 1.299  | 5099.1 | 1      | 0      | 0      | ...    | 1      | 0      | 1      | 0      | 0      | 0      | 1      | 0      | 0      | 0      |\n",
       "| 6      | 999    | 0      |  1.4   | 93.918 | 4.963  | 5228.1 | 1      | 0      | 0      | ...    | 1      | 0      | 0      | 0      | 1      | 0      | 0      | 0      | 0      | 0      |\n",
       "| 7      | 999    | 0      |  1.4   | 94.465 | 4.864  | 5228.1 | 1      | 0      | 0      | ...    | 0      | 0      | 0      | 0      | 1      | 0      | 1      | 1      | 0      | 0      |\n",
       "\n"
      ],
      "text/plain": [
       "  client_id pdays previous emp_var_rate cons_price_idx euribor3m nr_employed\n",
       "1 2         999   0         1.1         93.994         4.858     5191.0     \n",
       "2 3         999   0         1.4         94.465         4.959     5228.1     \n",
       "3 4         999   0        -0.1         93.200         4.153     5195.8     \n",
       "4 5         999   1        -1.8         92.893         1.299     5099.1     \n",
       "5 6         999   0         1.4         93.918         4.963     5228.1     \n",
       "6 7         999   0         1.4         94.465         4.864     5228.1     \n",
       "  pdays_999 job_blue_collar job_retired ... contact_cellular month_mar\n",
       "1 1         0               0           ... 0                0        \n",
       "2 1         0               0           ... 0                0        \n",
       "3 1         1               0           ... 1                0        \n",
       "4 1         0               0           ... 1                0        \n",
       "5 1         0               0           ... 1                0        \n",
       "6 1         0               0           ... 0                0        \n",
       "  month_may month_oct poutcome_nonexistent job_binned_blue_collar___services\n",
       "1 1         0         1                    0                                \n",
       "2 0         0         1                    0                                \n",
       "3 0         0         1                    1                                \n",
       "4 1         0         0                    0                                \n",
       "5 0         0         1                    0                                \n",
       "6 0         0         1                    0                                \n",
       "  job_binned_misc__level_pos_ age_binned__36_55_ age_binned__55__Inf_ subscribe\n",
       "1 0                           0                  0                    0        \n",
       "2 1                           1                  0                    0        \n",
       "3 0                           1                  0                    0        \n",
       "4 1                           0                  0                    0        \n",
       "5 0                           0                  0                    0        \n",
       "6 1                           1                  0                    0        "
      ]
     },
     "metadata": {},
     "output_type": "display_data"
    }
   ],
   "source": [
    "# Print out to check\n",
    "head(train_processed)"
   ]
  },
  {
   "cell_type": "markdown",
   "metadata": {},
   "source": [
    "## 3. Models"
   ]
  },
  {
   "cell_type": "markdown",
   "metadata": {},
   "source": [
    "# 1. Logistic Regression"
   ]
  },
  {
   "cell_type": "code",
   "execution_count": 36,
   "metadata": {},
   "outputs": [
    {
     "name": "stderr",
     "output_type": "stream",
     "text": [
      "Resampling: cross-validation\n",
      "Measures:             auc.train   auc.test    \n",
      "[Resample] iter 1:    0.7953055   0.8922764   \n",
      "[Resample] iter 2:    0.7956512   0.8653437   \n",
      "[Resample] iter 3:    0.7969705   0.8162879   \n",
      "[Resample] iter 4:    0.7959184   0.8872679   \n",
      "[Resample] iter 5:    0.7966734   0.8466667   \n",
      "[Resample] iter 6:    0.7993722   0.6584314   \n",
      "[Resample] iter 7:    0.7964794   0.8697651   \n",
      "[Resample] iter 8:    0.7952312   0.8936877   \n",
      "[Resample] iter 9:    0.7979932   0.7606383   \n",
      "[Resample] iter 10:   0.7976463   0.7887865   \n",
      "[Resample] iter 11:   0.7979301   0.7724252   \n",
      "[Resample] iter 12:   0.7979273   0.6774194   \n",
      "[Resample] iter 13:   0.7982774   0.7417582   \n",
      "[Resample] iter 14:   0.7973771   0.8053977   \n",
      "[Resample] iter 15:   0.7962632   0.8428030   \n",
      "[Resample] iter 16:   0.7975594   0.7800000   \n",
      "[Resample] iter 17:   0.7999762   0.6405836   \n",
      "[Resample] iter 18:   0.7978695   0.7577778   \n",
      "[Resample] iter 19:   0.7982496   0.7200000   \n",
      "[Resample] iter 20:   0.7957221   0.8977273   \n",
      "[Resample] iter 21:   0.7964907   0.8621042   \n",
      "[Resample] iter 22:   0.7962688   0.8646179   \n",
      "[Resample] iter 23:   0.7982950   0.7205556   \n",
      "[Resample] iter 24:   0.7956815   0.9415761   \n",
      "[Resample] iter 25:   0.7968454   0.8451705   \n",
      "[Resample] iter 26:   0.7975104   0.7906977   \n",
      "[Resample] iter 27:   0.7989917   0.6964286   \n",
      "[Resample] iter 28:   0.7960058   0.9055556   \n",
      "[Resample] iter 29:   0.7965092   0.8252841   \n",
      "[Resample] iter 30:   0.7957272   0.8988764   \n",
      "[Resample] iter 31:   0.7984079   0.7197171   \n",
      "[Resample] iter 32:   0.7976672   0.7844684   \n",
      "[Resample] iter 33:   0.7984040   0.7207880   \n",
      "[Resample] iter 34:   0.7991033   0.7194940   \n",
      "[Resample] iter 35:   0.7982530   0.7216547   \n",
      "[Resample] iter 36:   0.7994933   0.7335223   \n",
      "[Resample] iter 37:   0.7949008   0.9431063   \n",
      "[Resample] iter 38:   0.7972615   0.8302808   \n",
      "[Resample] iter 39:   0.7974412   0.7948505   \n",
      "[Resample] iter 40:   0.7971617   0.8106399   \n",
      "[Resample] iter 41:   0.7967290   0.8656899   \n",
      "[Resample] iter 42:   0.7965112   0.8311012   \n",
      "[Resample] iter 43:   0.7983035   0.6978022   \n",
      "[Resample] iter 44:   0.7973746   0.7713068   \n",
      "[Resample] iter 45:   0.7975229   0.7642045   \n",
      "[Resample] iter 46:   0.7966639   0.8694444   \n",
      "[Resample] iter 47:   0.7973848   0.7814408   \n",
      "[Resample] iter 48:   0.7965465   0.8394444   \n",
      "[Resample] iter 49:   0.7980030   0.7645349   \n",
      "[Resample] iter 50:   0.7965513   0.8355438   \n",
      "[Resample] iter 51:   0.7974333   0.7674419   \n",
      "[Resample] iter 52:   0.7971211   0.7652520   \n",
      "[Resample] iter 53:   0.7999886   0.5946970   \n",
      "[Resample] iter 54:   0.7970008   0.8494624   \n",
      "[Resample] iter 55:   0.7999917   0.5638889   \n",
      "[Resample] iter 56:   0.7974386   0.7982635   \n",
      "[Resample] iter 57:   0.7952336   0.9214015   \n",
      "[Resample] iter 58:   0.7970821   0.8200000   \n",
      "[Resample] iter 59:   0.7971074   0.8011765   \n",
      "[Resample] iter 60:   0.7981883   0.7250000   \n",
      "[Resample] iter 61:   0.7965208   0.8620690   \n",
      "[Resample] iter 62:   0.7974683   0.7860054   \n",
      "[Resample] iter 63:   0.7977348   0.7242908   \n",
      "[Resample] iter 64:   0.7981256   0.7455556   \n",
      "[Resample] iter 65:   0.7966056   0.8203922   \n",
      "[Resample] iter 66:   0.7974636   0.7757092   \n",
      "[Resample] iter 67:   0.7967213   0.8174182   \n",
      "[Resample] iter 68:   0.7974655   0.7888258   \n",
      "[Resample] iter 69:   0.7984777   0.7547838   \n",
      "[Resample] iter 70:   0.7983793   0.6705069   \n",
      "\n",
      "\n",
      "Aggregated Result: auc.test.mean=0.7916727,auc.train.mean=0.7973422\n",
      "\n",
      "\n"
     ]
    }
   ],
   "source": [
    "# Set up cross-validation\n",
    "rdesc = makeResampleDesc(\"CV\", iters=70, predict=\"both\")\n",
    "\n",
    "# Define the model\n",
    "learner <- makeLearner(\"classif.logreg\", predict.type=\"prob\", fix.factors.prediction=T)\n",
    "\n",
    "# Define the task\n",
    "train_task <- makeClassifTask(id=\"bank_train\", data=train_processed[, -1], target=\"subscribe\")\n",
    "\n",
    "# Set hyper parameter tuning\n",
    "tune_params <- makeParamSet(\n",
    ")\n",
    "ctrl = makeTuneControlGrid()\n",
    "\n",
    "# Run the hyper parameter tuning with k-fold CV\n",
    "if (length(tune_params$pars) > 0) {\n",
    "    # Run parameter tuning\n",
    "    res <- tuneParams(learner, task=train_task, resampling=rdesc,\n",
    "      par.set=tune_params, control=ctrl, measures=list(mlr::auc))\n",
    "    \n",
    "    # Extract best model\n",
    "    best_learner <- res$learner\n",
    "    \n",
    "} else {\n",
    "    # Simple cross-validation\n",
    "    res <- resample(learner, train_task, rdesc, measures=list(mlr::auc, setAggregation(mlr::auc, train.mean)))\n",
    "    \n",
    "    # No parameter for tuning, only 1 best learner\n",
    "    best_learner <- learner\n",
    "}"
   ]
  },
  {
   "cell_type": "code",
   "execution_count": 37,
   "metadata": {},
   "outputs": [],
   "source": [
    "# Retrain the model with tbe best hyper-parameters\n",
    "best_md <- mlr::train(best_learner, train_task)"
   ]
  },
  {
   "cell_type": "code",
   "execution_count": 38,
   "metadata": {},
   "outputs": [
    {
     "data": {
      "text/plain": [
       "Prediction: 3000 observations\n",
       "predict.type: prob\n",
       "threshold: 0=0.50,1=0.50\n",
       "time: 0.02\n",
       "        prob.0     prob.1 response\n",
       "7001 0.8862273 0.11377267        0\n",
       "7002 0.9712482 0.02875185        0\n",
       "7003 0.6318741 0.36812586        0\n",
       "7004 0.9749132 0.02508685        0\n",
       "7005 0.9662428 0.03375717        0\n",
       "7006 0.9326154 0.06738458        0\n",
       "... (#rows: 3000, #cols: 3)"
      ]
     },
     "metadata": {},
     "output_type": "display_data"
    }
   ],
   "source": [
    "# Make prediction on test data\n",
    "pred <- predict(best_md, newdata=test_holdout_processed[, -1])\n",
    "pred"
   ]
  },
  {
   "cell_type": "code",
   "execution_count": 40,
   "metadata": {},
   "outputs": [],
   "source": [
    "# Output predicted file\n",
    "output <- data.frame(client_id=test_holdout$client_id, subscribe=pred$data$prob.1)\n",
    "write.csv(output, 'C:/Users/mario/OneDrive/Documentos/Stats and Machine Learning/In-class Kaggle Competition/data/Kaggle/output/lr_submission_4.csv', row.names=FALSE)"
   ]
  },
  {
   "cell_type": "markdown",
   "metadata": {},
   "source": [
    "# 2. RandomForest model"
   ]
  },
  {
   "cell_type": "code",
   "execution_count": 41,
   "metadata": {
    "scrolled": true
   },
   "outputs": [
    {
     "name": "stderr",
     "output_type": "stream",
     "text": [
      "[Tune] Started tuning learner classif.randomForest for parameter set:\n",
      "          Type len Def               Constr Req Tunable Trafo\n",
      "ntree discrete   -   - 100,250,500,750,1000   -    TRUE     -\n",
      "mtry  discrete   -   -          1,2,3,5,6,9   -    TRUE     -\n",
      "With control class: TuneControlGrid\n",
      "Imputation value: -0\n",
      "[Tune-x] 1: ntree=100; mtry=1\n",
      "[Tune-y] 1: auc.test.mean=0.7345478; time: 0.2 min\n",
      "[Tune-x] 2: ntree=250; mtry=1\n",
      "[Tune-y] 2: auc.test.mean=0.7470483; time: 0.5 min\n",
      "[Tune-x] 3: ntree=500; mtry=1\n",
      "[Tune-y] 3: auc.test.mean=0.7533133; time: 1.1 min\n",
      "[Tune-x] 4: ntree=750; mtry=1\n",
      "[Tune-y] 4: auc.test.mean=0.7535599; time: 1.6 min\n",
      "[Tune-x] 5: ntree=1000; mtry=1\n",
      "[Tune-y] 5: auc.test.mean=0.7528937; time: 2.1 min\n",
      "[Tune-x] 6: ntree=100; mtry=2\n",
      "[Tune-y] 6: auc.test.mean=0.7566952; time: 0.3 min\n",
      "[Tune-x] 7: ntree=250; mtry=2\n",
      "[Tune-y] 7: auc.test.mean=0.7649561; time: 0.8 min\n",
      "[Tune-x] 8: ntree=500; mtry=2\n",
      "[Tune-y] 8: auc.test.mean=0.7663301; time: 1.5 min\n",
      "[Tune-x] 9: ntree=750; mtry=2\n",
      "[Tune-y] 9: auc.test.mean=0.7692156; time: 2.2 min\n",
      "[Tune-x] 10: ntree=1000; mtry=2\n",
      "[Tune-y] 10: auc.test.mean=0.7684617; time: 3.0 min\n",
      "[Tune-x] 11: ntree=100; mtry=3\n",
      "[Tune-y] 11: auc.test.mean=0.7633404; time: 0.4 min\n",
      "[Tune-x] 12: ntree=250; mtry=3\n",
      "[Tune-y] 12: auc.test.mean=0.7705571; time: 0.9 min\n",
      "[Tune-x] 13: ntree=500; mtry=3\n",
      "[Tune-y] 13: auc.test.mean=0.7719907; time: 1.8 min\n",
      "[Tune-x] 14: ntree=750; mtry=3\n",
      "[Tune-y] 14: auc.test.mean=0.7741817; time: 2.7 min\n",
      "[Tune-x] 15: ntree=1000; mtry=3\n",
      "[Tune-y] 15: auc.test.mean=0.7738168; time: 3.6 min\n",
      "[Tune-x] 16: ntree=100; mtry=5\n",
      "[Tune-y] 16: auc.test.mean=0.7678174; time: 0.5 min\n",
      "[Tune-x] 17: ntree=250; mtry=5\n",
      "[Tune-y] 17: auc.test.mean=0.7705737; time: 1.1 min\n",
      "[Tune-x] 18: ntree=500; mtry=5\n",
      "[Tune-y] 18: auc.test.mean=0.7687554; time: 2.3 min\n",
      "[Tune-x] 19: ntree=750; mtry=5\n",
      "[Tune-y] 19: auc.test.mean=0.7667739; time: 3.4 min\n",
      "[Tune-x] 20: ntree=1000; mtry=5\n",
      "[Tune-y] 20: auc.test.mean=0.7670083; time: 4.5 min\n",
      "[Tune-x] 21: ntree=100; mtry=6\n",
      "[Tune-y] 21: auc.test.mean=0.7658659; time: 0.5 min\n",
      "[Tune-x] 22: ntree=250; mtry=6\n",
      "[Tune-y] 22: auc.test.mean=0.7707163; time: 1.2 min\n",
      "[Tune-x] 23: ntree=500; mtry=6\n",
      "[Tune-y] 23: auc.test.mean=0.7685614; time: 2.4 min\n",
      "[Tune-x] 24: ntree=750; mtry=6\n",
      "[Tune-y] 24: auc.test.mean=0.7652440; time: 3.6 min\n",
      "[Tune-x] 25: ntree=1000; mtry=6\n",
      "[Tune-y] 25: auc.test.mean=0.7649914; time: 4.8 min\n",
      "[Tune-x] 26: ntree=100; mtry=9\n",
      "[Tune-y] 26: auc.test.mean=0.7663591; time: 0.6 min\n",
      "[Tune-x] 27: ntree=250; mtry=9\n",
      "[Tune-y] 27: auc.test.mean=0.7657792; time: 1.4 min\n",
      "[Tune-x] 28: ntree=500; mtry=9\n",
      "[Tune-y] 28: auc.test.mean=0.7633760; time: 2.8 min\n",
      "[Tune-x] 29: ntree=750; mtry=9\n",
      "[Tune-y] 29: auc.test.mean=0.7624793; time: 4.2 min\n",
      "[Tune-x] 30: ntree=1000; mtry=9\n",
      "[Tune-y] 30: auc.test.mean=0.7650688; time: 5.6 min\n",
      "[Tune] Result: ntree=750; mtry=3 : auc.test.mean=0.7741817\n"
     ]
    }
   ],
   "source": [
    "# Set up cross-validation\n",
    "rdesc = makeResampleDesc(\"CV\", iters=12)\n",
    "\n",
    "# Define the model\n",
    "learner <- makeLearner(\"classif.randomForest\", predict.type=\"prob\", fix.factors.prediction=T)\n",
    "\n",
    "# Define the task\n",
    "train_task <- makeClassifTask(id=\"bank_train\", data=train_processed[, -1], target=\"subscribe\")\n",
    "\n",
    "# Set hyper parameter tuning\n",
    "tune_params <- makeParamSet(\n",
    "  makeDiscreteParam('ntree', value=c(100, 250, 500, 750, 1000)),\n",
    "  makeDiscreteParam('mtry', value=round(sqrt((ncol(train_processed)-1) * c(0.1, 0.25, 0.5, 1, 2, 4))))\n",
    ")\n",
    "ctrl = makeTuneControlGrid()\n",
    "\n",
    "# Run the hyper parameter tuning with k-fold CV\n",
    "if (length(tune_params$pars) > 0) {\n",
    "    # Run parameter tuning\n",
    "    res <- tuneParams(learner, task=train_task, resampling=rdesc,\n",
    "      par.set=tune_params, control=ctrl, measures=list(mlr::auc))\n",
    "    \n",
    "    # Extract best model\n",
    "    best_learner <- res$learner\n",
    "    \n",
    "} else {\n",
    "    # Simple cross-validation\n",
    "    res <- resample(learner, train_task, rdesc, measures=list(mlr::auc))\n",
    "    \n",
    "    # No parameter for tuning, only 1 best learner\n",
    "    best_learner <- learner\n",
    "}"
   ]
  },
  {
   "cell_type": "markdown",
   "metadata": {},
   "source": [
    "# 4. Gradient Boosting"
   ]
  },
  {
   "cell_type": "code",
   "execution_count": 42,
   "metadata": {},
   "outputs": [
    {
     "name": "stderr",
     "output_type": "stream",
     "text": [
      "Resampling: cross-validation\n",
      "Measures:             auc.train   auc.test    \n"
     ]
    },
    {
     "name": "stdout",
     "output_type": "stream",
     "text": [
      "Distribution not specified, assuming bernoulli ...\n"
     ]
    },
    {
     "name": "stderr",
     "output_type": "stream",
     "text": [
      "[Resample] iter 1:    0.7960310   0.8608991   \n"
     ]
    },
    {
     "name": "stdout",
     "output_type": "stream",
     "text": [
      "Distribution not specified, assuming bernoulli ...\n"
     ]
    },
    {
     "name": "stderr",
     "output_type": "stream",
     "text": [
      "[Resample] iter 2:    0.7926797   0.7875264   \n"
     ]
    },
    {
     "name": "stdout",
     "output_type": "stream",
     "text": [
      "Distribution not specified, assuming bernoulli ...\n"
     ]
    },
    {
     "name": "stderr",
     "output_type": "stream",
     "text": [
      "[Resample] iter 3:    0.7925626   0.8293529   \n"
     ]
    },
    {
     "name": "stdout",
     "output_type": "stream",
     "text": [
      "Distribution not specified, assuming bernoulli ...\n"
     ]
    },
    {
     "name": "stderr",
     "output_type": "stream",
     "text": [
      "[Resample] iter 4:    0.7949516   0.7642276   \n"
     ]
    },
    {
     "name": "stdout",
     "output_type": "stream",
     "text": [
      "Distribution not specified, assuming bernoulli ...\n"
     ]
    },
    {
     "name": "stderr",
     "output_type": "stream",
     "text": [
      "[Resample] iter 5:    0.7943262   0.7813333   \n"
     ]
    },
    {
     "name": "stdout",
     "output_type": "stream",
     "text": [
      "Distribution not specified, assuming bernoulli ...\n"
     ]
    },
    {
     "name": "stderr",
     "output_type": "stream",
     "text": [
      "[Resample] iter 6:    0.7952566   0.7274247   \n"
     ]
    },
    {
     "name": "stdout",
     "output_type": "stream",
     "text": [
      "Distribution not specified, assuming bernoulli ...\n"
     ]
    },
    {
     "name": "stderr",
     "output_type": "stream",
     "text": [
      "[Resample] iter 7:    0.7928053   0.7421875   \n"
     ]
    },
    {
     "name": "stdout",
     "output_type": "stream",
     "text": [
      "Distribution not specified, assuming bernoulli ...\n"
     ]
    },
    {
     "name": "stderr",
     "output_type": "stream",
     "text": [
      "[Resample] iter 8:    0.7947120   0.8106250   \n"
     ]
    },
    {
     "name": "stdout",
     "output_type": "stream",
     "text": [
      "Distribution not specified, assuming bernoulli ...\n"
     ]
    },
    {
     "name": "stderr",
     "output_type": "stream",
     "text": [
      "[Resample] iter 9:    0.7953963   0.7986069   \n"
     ]
    },
    {
     "name": "stdout",
     "output_type": "stream",
     "text": [
      "Distribution not specified, assuming bernoulli ...\n"
     ]
    },
    {
     "name": "stderr",
     "output_type": "stream",
     "text": [
      "[Resample] iter 10:   0.7926739   0.9043004   \n"
     ]
    },
    {
     "name": "stdout",
     "output_type": "stream",
     "text": [
      "Distribution not specified, assuming bernoulli ...\n"
     ]
    },
    {
     "name": "stderr",
     "output_type": "stream",
     "text": [
      "[Resample] iter 11:   0.7920321   0.8881553   \n"
     ]
    },
    {
     "name": "stdout",
     "output_type": "stream",
     "text": [
      "Distribution not specified, assuming bernoulli ...\n"
     ]
    },
    {
     "name": "stderr",
     "output_type": "stream",
     "text": [
      "[Resample] iter 12:   0.7935873   0.7749496   \n"
     ]
    },
    {
     "name": "stdout",
     "output_type": "stream",
     "text": [
      "Distribution not specified, assuming bernoulli ...\n"
     ]
    },
    {
     "name": "stderr",
     "output_type": "stream",
     "text": [
      "[Resample] iter 13:   0.7939665   0.7951304   \n"
     ]
    },
    {
     "name": "stdout",
     "output_type": "stream",
     "text": [
      "Distribution not specified, assuming bernoulli ...\n"
     ]
    },
    {
     "name": "stderr",
     "output_type": "stream",
     "text": [
      "[Resample] iter 14:   0.7921329   0.8341837   \n"
     ]
    },
    {
     "name": "stdout",
     "output_type": "stream",
     "text": [
      "Distribution not specified, assuming bernoulli ...\n"
     ]
    },
    {
     "name": "stderr",
     "output_type": "stream",
     "text": [
      "[Resample] iter 15:   0.7942204   0.7630971   \n"
     ]
    },
    {
     "name": "stdout",
     "output_type": "stream",
     "text": [
      "Distribution not specified, assuming bernoulli ...\n"
     ]
    },
    {
     "name": "stderr",
     "output_type": "stream",
     "text": [
      "[Resample] iter 16:   0.7938100   0.8720930   \n"
     ]
    },
    {
     "name": "stdout",
     "output_type": "stream",
     "text": [
      "Distribution not specified, assuming bernoulli ...\n"
     ]
    },
    {
     "name": "stderr",
     "output_type": "stream",
     "text": [
      "[Resample] iter 17:   0.7931296   0.8765333   \n"
     ]
    },
    {
     "name": "stdout",
     "output_type": "stream",
     "text": [
      "Distribution not specified, assuming bernoulli ...\n"
     ]
    },
    {
     "name": "stderr",
     "output_type": "stream",
     "text": [
      "[Resample] iter 18:   0.7960656   0.7739583   \n"
     ]
    },
    {
     "name": "stdout",
     "output_type": "stream",
     "text": [
      "Distribution not specified, assuming bernoulli ...\n"
     ]
    },
    {
     "name": "stderr",
     "output_type": "stream",
     "text": [
      "[Resample] iter 19:   0.7967171   0.7298387   \n"
     ]
    },
    {
     "name": "stdout",
     "output_type": "stream",
     "text": [
      "Distribution not specified, assuming bernoulli ...\n"
     ]
    },
    {
     "name": "stderr",
     "output_type": "stream",
     "text": [
      "[Resample] iter 20:   0.7945203   0.7864930   \n"
     ]
    },
    {
     "name": "stdout",
     "output_type": "stream",
     "text": [
      "Distribution not specified, assuming bernoulli ...\n"
     ]
    },
    {
     "name": "stderr",
     "output_type": "stream",
     "text": [
      "[Resample] iter 21:   0.7970164   0.6660786   \n"
     ]
    },
    {
     "name": "stdout",
     "output_type": "stream",
     "text": [
      "Distribution not specified, assuming bernoulli ...\n"
     ]
    },
    {
     "name": "stderr",
     "output_type": "stream",
     "text": [
      "[Resample] iter 22:   0.7942135   0.8394912   \n"
     ]
    },
    {
     "name": "stdout",
     "output_type": "stream",
     "text": [
      "Distribution not specified, assuming bernoulli ...\n"
     ]
    },
    {
     "name": "stderr",
     "output_type": "stream",
     "text": [
      "[Resample] iter 23:   0.7958805   0.6995443   \n"
     ]
    },
    {
     "name": "stdout",
     "output_type": "stream",
     "text": [
      "Distribution not specified, assuming bernoulli ...\n"
     ]
    },
    {
     "name": "stderr",
     "output_type": "stream",
     "text": [
      "[Resample] iter 24:   0.7944640   0.7376923   \n"
     ]
    },
    {
     "name": "stdout",
     "output_type": "stream",
     "text": [
      "Distribution not specified, assuming bernoulli ...\n"
     ]
    },
    {
     "name": "stderr",
     "output_type": "stream",
     "text": [
      "[Resample] iter 25:   0.7928060   0.7866667   \n"
     ]
    },
    {
     "name": "stdout",
     "output_type": "stream",
     "text": [
      "Distribution not specified, assuming bernoulli ...\n"
     ]
    },
    {
     "name": "stderr",
     "output_type": "stream",
     "text": [
      "[Resample] iter 26:   0.7935780   0.7185417   \n"
     ]
    },
    {
     "name": "stdout",
     "output_type": "stream",
     "text": [
      "Distribution not specified, assuming bernoulli ...\n"
     ]
    },
    {
     "name": "stderr",
     "output_type": "stream",
     "text": [
      "[Resample] iter 27:   0.7912216   0.8775705   \n"
     ]
    },
    {
     "name": "stdout",
     "output_type": "stream",
     "text": [
      "Distribution not specified, assuming bernoulli ...\n"
     ]
    },
    {
     "name": "stderr",
     "output_type": "stream",
     "text": [
      "[Resample] iter 28:   0.7933480   0.8551295   \n"
     ]
    },
    {
     "name": "stdout",
     "output_type": "stream",
     "text": [
      "Distribution not specified, assuming bernoulli ...\n"
     ]
    },
    {
     "name": "stderr",
     "output_type": "stream",
     "text": [
      "[Resample] iter 29:   0.7964329   0.7589670   \n"
     ]
    },
    {
     "name": "stdout",
     "output_type": "stream",
     "text": [
      "Distribution not specified, assuming bernoulli ...\n"
     ]
    },
    {
     "name": "stderr",
     "output_type": "stream",
     "text": [
      "[Resample] iter 30:   0.7940163   0.8568594   \n"
     ]
    },
    {
     "name": "stdout",
     "output_type": "stream",
     "text": [
      "Distribution not specified, assuming bernoulli ...\n"
     ]
    },
    {
     "name": "stderr",
     "output_type": "stream",
     "text": [
      "[Resample] iter 31:   0.7886186   0.8933972   \n"
     ]
    },
    {
     "name": "stdout",
     "output_type": "stream",
     "text": [
      "Distribution not specified, assuming bernoulli ...\n"
     ]
    },
    {
     "name": "stderr",
     "output_type": "stream",
     "text": [
      "[Resample] iter 32:   0.7936335   0.8466667   \n"
     ]
    },
    {
     "name": "stdout",
     "output_type": "stream",
     "text": [
      "Distribution not specified, assuming bernoulli ...\n"
     ]
    },
    {
     "name": "stderr",
     "output_type": "stream",
     "text": [
      "[Resample] iter 33:   0.7925314   0.7675076   \n"
     ]
    },
    {
     "name": "stdout",
     "output_type": "stream",
     "text": [
      "Distribution not specified, assuming bernoulli ...\n"
     ]
    },
    {
     "name": "stderr",
     "output_type": "stream",
     "text": [
      "[Resample] iter 34:   0.7939121   0.8653628   \n"
     ]
    },
    {
     "name": "stdout",
     "output_type": "stream",
     "text": [
      "Distribution not specified, assuming bernoulli ...\n"
     ]
    },
    {
     "name": "stderr",
     "output_type": "stream",
     "text": [
      "[Resample] iter 35:   0.7925529   0.8382056   \n"
     ]
    },
    {
     "name": "stdout",
     "output_type": "stream",
     "text": [
      "Distribution not specified, assuming bernoulli ...\n"
     ]
    },
    {
     "name": "stderr",
     "output_type": "stream",
     "text": [
      "[Resample] iter 36:   0.7920322   0.8173953   \n"
     ]
    },
    {
     "name": "stdout",
     "output_type": "stream",
     "text": [
      "Distribution not specified, assuming bernoulli ...\n"
     ]
    },
    {
     "name": "stderr",
     "output_type": "stream",
     "text": [
      "[Resample] iter 37:   0.7942371   0.7513628   \n"
     ]
    },
    {
     "name": "stdout",
     "output_type": "stream",
     "text": [
      "Distribution not specified, assuming bernoulli ...\n"
     ]
    },
    {
     "name": "stderr",
     "output_type": "stream",
     "text": [
      "[Resample] iter 38:   0.7946764   0.7450667   \n"
     ]
    },
    {
     "name": "stdout",
     "output_type": "stream",
     "text": [
      "Distribution not specified, assuming bernoulli ...\n"
     ]
    },
    {
     "name": "stderr",
     "output_type": "stream",
     "text": [
      "[Resample] iter 39:   0.7934058   0.8645063   \n"
     ]
    },
    {
     "name": "stdout",
     "output_type": "stream",
     "text": [
      "Distribution not specified, assuming bernoulli ...\n"
     ]
    },
    {
     "name": "stderr",
     "output_type": "stream",
     "text": [
      "[Resample] iter 40:   0.7953984   0.7005208   \n"
     ]
    },
    {
     "name": "stdout",
     "output_type": "stream",
     "text": [
      "Distribution not specified, assuming bernoulli ...\n"
     ]
    },
    {
     "name": "stderr",
     "output_type": "stream",
     "text": [
      "[Resample] iter 41:   0.7955922   0.7815871   \n"
     ]
    },
    {
     "name": "stdout",
     "output_type": "stream",
     "text": [
      "Distribution not specified, assuming bernoulli ...\n"
     ]
    },
    {
     "name": "stderr",
     "output_type": "stream",
     "text": [
      "[Resample] iter 42:   0.7925201   0.7874150   \n"
     ]
    },
    {
     "name": "stdout",
     "output_type": "stream",
     "text": [
      "Distribution not specified, assuming bernoulli ...\n"
     ]
    },
    {
     "name": "stderr",
     "output_type": "stream",
     "text": [
      "[Resample] iter 43:   0.7944554   0.6960383   \n"
     ]
    },
    {
     "name": "stdout",
     "output_type": "stream",
     "text": [
      "Distribution not specified, assuming bernoulli ...\n"
     ]
    },
    {
     "name": "stderr",
     "output_type": "stream",
     "text": [
      "[Resample] iter 44:   0.7944240   0.7528345   \n"
     ]
    },
    {
     "name": "stdout",
     "output_type": "stream",
     "text": [
      "Distribution not specified, assuming bernoulli ...\n"
     ]
    },
    {
     "name": "stderr",
     "output_type": "stream",
     "text": [
      "[Resample] iter 45:   0.7952298   0.7032313   \n"
     ]
    },
    {
     "name": "stdout",
     "output_type": "stream",
     "text": [
      "Distribution not specified, assuming bernoulli ...\n"
     ]
    },
    {
     "name": "stderr",
     "output_type": "stream",
     "text": [
      "[Resample] iter 46:   0.7958395   0.7507612   \n"
     ]
    },
    {
     "name": "stdout",
     "output_type": "stream",
     "text": [
      "Distribution not specified, assuming bernoulli ...\n"
     ]
    },
    {
     "name": "stderr",
     "output_type": "stream",
     "text": [
      "[Resample] iter 47:   0.7945326   0.8160291   \n"
     ]
    },
    {
     "name": "stdout",
     "output_type": "stream",
     "text": [
      "Distribution not specified, assuming bernoulli ...\n"
     ]
    },
    {
     "name": "stderr",
     "output_type": "stream",
     "text": [
      "[Resample] iter 48:   0.7927551   0.8114783   \n"
     ]
    },
    {
     "name": "stdout",
     "output_type": "stream",
     "text": [
      "Distribution not specified, assuming bernoulli ...\n"
     ]
    },
    {
     "name": "stderr",
     "output_type": "stream",
     "text": [
      "[Resample] iter 49:   0.7958469   0.7184000   \n"
     ]
    },
    {
     "name": "stdout",
     "output_type": "stream",
     "text": [
      "Distribution not specified, assuming bernoulli ...\n"
     ]
    },
    {
     "name": "stderr",
     "output_type": "stream",
     "text": [
      "[Resample] iter 50:   0.7942565   0.6795881   \n",
      "\n",
      "\n",
      "Aggregated Result: auc.test.mean=0.7896962,auc.train.mean=0.7940201\n",
      "\n",
      "\n"
     ]
    }
   ],
   "source": [
    "# Set up cross-validation\n",
    "rdesc = makeResampleDesc(\"CV\", iters=50, predict=\"both\")\n",
    "\n",
    "# Define the model\n",
    "learner <- makeLearner(\"classif.gbm\", predict.type=\"prob\", fix.factors.prediction=T)\n",
    "\n",
    "# Define the task\n",
    "train_task <- makeClassifTask(id=\"bank_train\", data=train_processed[, -1], target=\"subscribe\")\n",
    "\n",
    "# Set hyper parameter tuning\n",
    "tune_params <- makeParamSet(\n",
    ")\n",
    "ctrl = makeTuneControlGrid()\n",
    "\n",
    "# Run the hyper parameter tuning with k-fold CV\n",
    "if (length(tune_params$pars) > 0) {\n",
    "    # Run parameter tuning\n",
    "    res <- tuneParams(learner, task=train_task, resampling=rdesc,\n",
    "      par.set=tune_params, control=ctrl, measures=list(mlr::auc))\n",
    "    \n",
    "    # Extract best model\n",
    "    best_learner <- res$learner\n",
    "    \n",
    "} else {\n",
    "    # Simple cross-validation\n",
    "    res <- resample(learner, train_task, rdesc, measures=list(mlr::auc, setAggregation(mlr::auc, train.mean)))\n",
    "    \n",
    "    # No parameter for tuning, only 1 best learner\n",
    "    best_learner <- learner\n",
    "}"
   ]
  },
  {
   "cell_type": "code",
   "execution_count": null,
   "metadata": {},
   "outputs": [],
   "source": [
    "IT50= 0.791  "
   ]
  },
  {
   "cell_type": "code",
   "execution_count": null,
   "metadata": {},
   "outputs": [],
   "source": [
    "#  k-Nearest Neighbor from class package: \"knn\" | k-Nearest Neighbor from kknn package:\"kknn\" | Support Vector Machines from kernlab package\"ksvm\"  | Naive Bayes from e1071 package:\"naiveBayes\"  |   Boosting from adabag package:\"boosting\"  |  \"\"  |  \"\"  | \"\""
   ]
  },
  {
   "cell_type": "markdown",
   "metadata": {},
   "source": [
    "# THE Best MODEL"
   ]
  },
  {
   "cell_type": "markdown",
   "metadata": {},
   "source": [
    "# 9.Boosting from ada package: ada"
   ]
  },
  {
   "cell_type": "code",
   "execution_count": 44,
   "metadata": {},
   "outputs": [
    {
     "name": "stderr",
     "output_type": "stream",
     "text": [
      "Installing package into 'C:/Users/mario/OneDrive/Documentos/R/win-library/3.6'\n",
      "(as 'lib' is unspecified)\n"
     ]
    },
    {
     "name": "stdout",
     "output_type": "stream",
     "text": [
      "package 'ada' successfully unpacked and MD5 sums checked\n",
      "\n",
      "The downloaded binary packages are in\n",
      "\tC:\\Users\\mario\\AppData\\Local\\Temp\\Rtmp4Yi0zy\\downloaded_packages\n"
     ]
    }
   ],
   "source": [
    "install.packages('ada')"
   ]
  },
  {
   "cell_type": "code",
   "execution_count": 46,
   "metadata": {
    "scrolled": true
   },
   "outputs": [
    {
     "name": "stderr",
     "output_type": "stream",
     "text": [
      "Resampling: cross-validation\n",
      "Measures:             auc.train   auc.test    \n",
      "[Resample] iter 1:    0.8263026   0.7858116   \n",
      "[Resample] iter 2:    0.8090771   0.8411810   \n",
      "[Resample] iter 3:    0.8258042   0.7925990   \n",
      "[Resample] iter 4:    0.8250353   0.7924215   \n",
      "[Resample] iter 5:    0.8244037   0.7953153   \n",
      "\n",
      "\n",
      "Aggregated Result: auc.test.mean=0.8014657,auc.train.mean=0.8221246\n",
      "\n",
      "\n"
     ]
    }
   ],
   "source": [
    "# Set up cross-validation\n",
    "rdesc = makeResampleDesc(\"CV\", iters=5, predict=\"both\")\n",
    "\n",
    "# Define the model\n",
    "learner <- makeLearner(\"classif.ada\", predict.type=\"prob\", fix.factors.prediction=T)\n",
    "\n",
    "# Define the task\n",
    "train_task <- makeClassifTask(id=\"bank_train\", data=train_processed[, -1], target=\"subscribe\")\n",
    "\n",
    "# Set hyper parameter tuning\n",
    "tune_params <- makeParamSet(\n",
    ")\n",
    "ctrl = makeTuneControlGrid()\n",
    "\n",
    "# Run the hyper parameter tuning with k-fold CV\n",
    "if (length(tune_params$pars) > 0) {\n",
    "    # Run parameter tuning\n",
    "    res <- tuneParams(learner, task=train_task, resampling=rdesc,\n",
    "      par.set=tune_params, control=ctrl, measures=list(mlr::auc))\n",
    "    \n",
    "    # Extract best model\n",
    "    best_learner <- res$learner\n",
    "    \n",
    "} else {\n",
    "    # Simple cross-validation\n",
    "    res <- resample(learner, train_task, rdesc, measures=list(mlr::auc, setAggregation(mlr::auc, train.mean)))\n",
    "    \n",
    "    # No parameter for tuning, only 1 best learner\n",
    "    best_learner <- learner\n",
    "}"
   ]
  },
  {
   "cell_type": "code",
   "execution_count": null,
   "metadata": {},
   "outputs": [],
   "source": [
    "from sklearn.model_selection import GridSearchCV#Creating a grid of hyperparametersgrid_params = {    'n_estimators': [100,200,300]}\n",
    "#Building a 3 fold CV GridSearchCV objectgrid_object = GridSearchCV(estimator = ada_boost, param_grid = grid_params, scoring = 'accuracy', cv = 3, n_jobs = -1)"
   ]
  },
  {
   "cell_type": "markdown",
   "metadata": {},
   "source": [
    "# 10.  K-nearest neighbours from RWeka package: IBk"
   ]
  },
  {
   "cell_type": "code",
   "execution_count": 48,
   "metadata": {},
   "outputs": [
    {
     "name": "stderr",
     "output_type": "stream",
     "text": [
      "Installing package into 'C:/Users/mario/OneDrive/Documentos/R/win-library/3.6'\n",
      "(as 'lib' is unspecified)\n"
     ]
    },
    {
     "name": "stdout",
     "output_type": "stream",
     "text": [
      "package 'kknn' successfully unpacked and MD5 sums checked\n",
      "\n",
      "The downloaded binary packages are in\n",
      "\tC:\\Users\\mario\\AppData\\Local\\Temp\\Rtmp4Yi0zy\\downloaded_packages\n"
     ]
    }
   ],
   "source": [
    "install.packages(\"kknn\")"
   ]
  },
  {
   "cell_type": "code",
   "execution_count": 49,
   "metadata": {},
   "outputs": [
    {
     "name": "stderr",
     "output_type": "stream",
     "text": [
      "Loading required package: kknn\n",
      "Warning message:\n",
      "\"package 'kknn' was built under R version 3.6.3\"\n",
      "Attaching package: 'kknn'\n",
      "\n",
      "The following object is masked from 'package:caret':\n",
      "\n",
      "    contr.dummy\n",
      "\n",
      "Resampling: cross-validation\n",
      "Measures:             auc.train   auc.test    \n",
      "[Resample] iter 1:    0.9072593   0.7509433   \n",
      "[Resample] iter 2:    0.9074241   0.7346809   \n",
      "[Resample] iter 3:    0.9124308   0.7216207   \n",
      "[Resample] iter 4:    0.9081249   0.7237860   \n",
      "[Resample] iter 5:    0.9021118   0.7388948   \n",
      "\n",
      "\n",
      "Aggregated Result: auc.test.mean=0.7339851,auc.train.mean=0.9074702\n",
      "\n",
      "\n"
     ]
    }
   ],
   "source": [
    "# Set up cross-validation\n",
    "rdesc = makeResampleDesc(\"CV\", iters=5, predict=\"both\")\n",
    "\n",
    "# Define the model\n",
    "learner <- makeLearner(\"classif.kknn\", predict.type=\"prob\", fix.factors.prediction=T)\n",
    "\n",
    "# Define the task\n",
    "train_task <- makeClassifTask(id=\"bank_train\", data=train_processed[, -1], target=\"subscribe\")\n",
    "\n",
    "# Set hyper parameter tuning\n",
    "tune_params <- makeParamSet(\n",
    ")\n",
    "ctrl = makeTuneControlGrid()\n",
    "\n",
    "# Run the hyper parameter tuning with k-fold CV\n",
    "if (length(tune_params$pars) > 0) {\n",
    "    # Run parameter tuning\n",
    "    res <- tuneParams(learner, task=train_task, resampling=rdesc,\n",
    "      par.set=tune_params, control=ctrl, measures=list(mlr::auc))\n",
    "    \n",
    "    # Extract best model\n",
    "    best_learner <- res$learner\n",
    "    \n",
    "} else {\n",
    "    # Simple cross-validation\n",
    "    res <- resample(learner, train_task, rdesc, measures=list(mlr::auc, setAggregation(mlr::auc, train.mean)))\n",
    "    \n",
    "    # No parameter for tuning, only 1 best learner\n",
    "    best_learner <- learner\n",
    "}"
   ]
  },
  {
   "cell_type": "code",
   "execution_count": 50,
   "metadata": {},
   "outputs": [],
   "source": [
    "# Retrain the model with tbe best hyper-parameters\n",
    "best_md <- mlr::train(best_learner, train_task)"
   ]
  },
  {
   "cell_type": "code",
   "execution_count": 51,
   "metadata": {},
   "outputs": [
    {
     "data": {
      "text/plain": [
       "Prediction: 3000 observations\n",
       "predict.type: prob\n",
       "threshold: 0=0.50,1=0.50\n",
       "time: 0.83\n",
       "        prob.0    prob.1 response\n",
       "7001 1.0000000 0.0000000        0\n",
       "7002 1.0000000 0.0000000        0\n",
       "7003 0.7654534 0.2345466        0\n",
       "7004 1.0000000 0.0000000        0\n",
       "7005 1.0000000 0.0000000        0\n",
       "7006 0.5668962 0.4331038        0\n",
       "... (#rows: 3000, #cols: 3)"
      ]
     },
     "metadata": {},
     "output_type": "display_data"
    }
   ],
   "source": [
    "# Make prediction on test data\n",
    "pred <- predict(best_md, newdata=test_holdout_processed[, -1])\n",
    "pred"
   ]
  },
  {
   "cell_type": "code",
   "execution_count": null,
   "metadata": {},
   "outputs": [],
   "source": [
    "# Output predicted file\n",
    "output <- data.frame(client_id=test_holdout$client_id, subscribe=pred$data$prob.1)\n",
    "write.csv(output, 'C:/Users/mcastilloacosta/Documents/Stat. and ML Approaches for Marketing/In-class Kaggle Competition/In-class Kaggle Competition/MCA_KACO.csv', row.names=FALSE)"
   ]
  },
  {
   "cell_type": "markdown",
   "metadata": {},
   "source": [
    "# Performance Comparison"
   ]
  },
  {
   "cell_type": "code",
   "execution_count": null,
   "metadata": {},
   "outputs": [],
   "source": [
    "# I tried to create a unified benchmark table, but I rqn into an error too close to the delivery time.\n",
    "# Nonethless, this process is performed individually on each model training process."
   ]
  },
  {
   "cell_type": "code",
   "execution_count": 61,
   "metadata": {},
   "outputs": [
    {
     "name": "stderr",
     "output_type": "stream",
     "text": [
      "Installing package into 'C:/Users/mario/OneDrive/Documentos/R/win-library/3.6'\n",
      "(as 'lib' is unspecified)\n"
     ]
    },
    {
     "name": "stdout",
     "output_type": "stream",
     "text": [
      "package 'mlbench' successfully unpacked and MD5 sums checked\n",
      "\n",
      "The downloaded binary packages are in\n",
      "\tC:\\Users\\mario\\AppData\\Local\\Temp\\Rtmp4Yi0zy\\downloaded_packages\n"
     ]
    }
   ],
   "source": [
    "install.packages('mlbench')"
   ]
  },
  {
   "cell_type": "code",
   "execution_count": 91,
   "metadata": {},
   "outputs": [],
   "source": [
    "# Create a list of learners\n",
    "lrns1 = list(\n",
    "makeLearner(\"classif.logreg\", predict.type=\"prob\", id = \"LogReg\"),\n",
    "makeLearner(\"classif.randomForest\", predict.type=\"prob\", id = \"RanFor\"),\n",
    "makeLearner(\"classif.gbm\", predict.type=\"prob\", id = \"GB\"),\n",
    "makeLearner(\"classif.ada\", predict.type=\"prob\", id = \"Adaboost\"),\n",
    "makeLearner(\"classif.kknn\", predict.type=\"prob\", id = \"k-N\")\n",
    ")\n",
    "\n",
    "# Definition of the task\n",
    "train_t <- makeClassifTask(id=\"bank_train\", data=train_processed[, -1], target=\"subscribe\")\n",
    "\n",
    "# Definition of metrics\n",
    "Measure = list(auc, mmce, timetrain)\n"
   ]
  },
  {
   "cell_type": "code",
   "execution_count": 93,
   "metadata": {},
   "outputs": [],
   "source": [
    "# Definition of resampling method\n",
    "rdesc1 = makeResampleDesc(\"CV\", iters = 10)\n",
    "measures = Measure"
   ]
  },
  {
   "cell_type": "code",
   "execution_count": 95,
   "metadata": {},
   "outputs": [
    {
     "ename": "ERROR",
     "evalue": "Error in FUN(X[[i]], ...): List measures has element of wrong type function at position 1. Should be: Measure\n",
     "output_type": "error",
     "traceback": [
      "Error in FUN(X[[i]], ...): List measures has element of wrong type function at position 1. Should be: Measure\nTraceback:\n",
      "1. benchmark(lrns1, train_t, rdesc1, measures, show.info = FALSE)",
      "2. ensureBenchmarkMeasures(measures, tasks)",
      "3. checkListElementClass(measures, \"Measure\")",
      "4. lapply(seq_along(xs), function(i) {\n .     x = xs[[i]]\n .     if (!(is(x, cl))) \n .         stop(\"List \", s, \" has element of wrong type \", class(x)[1L], \n .             \" at position \", i, \". Should be: \", cl)\n . })",
      "5. FUN(X[[i]], ...)",
      "6. stop(\"List \", s, \" has element of wrong type \", class(x)[1L], \n .     \" at position \", i, \". Should be: \", cl)"
     ]
    }
   ],
   "source": [
    "# Application of benchmark\n",
    "bmr = benchmark(lrns1, train_t, rdesc1, measures, show.info = FALSE)"
   ]
  },
  {
   "cell_type": "code",
   "execution_count": null,
   "metadata": {},
   "outputs": [],
   "source": []
  }
 ],
 "metadata": {
  "kernelspec": {
   "display_name": "R",
   "language": "R",
   "name": "ir"
  },
  "language_info": {
   "codemirror_mode": "r",
   "file_extension": ".r",
   "mimetype": "text/x-r-source",
   "name": "R",
   "pygments_lexer": "r",
   "version": "3.6.1"
  }
 },
 "nbformat": 4,
 "nbformat_minor": 4
}
